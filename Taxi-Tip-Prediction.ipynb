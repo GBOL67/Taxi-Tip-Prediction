{
 "cells": [
  {
   "cell_type": "markdown",
   "metadata": {},
   "source": [
    "# **Taxi Tip Prediction**\n"
   ]
  },
  {
   "cell_type": "markdown",
   "metadata": {},
   "source": [
    "The aim of this project is to predict taxi tips using a regression tree model to determine the exact tip amount and a logistic regression model to classify the predicted tips into categories (high, medium, low). Additionally, a comparison between logistic regression and random forest models was made to determine the probability of the predicted tips falling into these categories. Visualization methods, including candle plots, were used to assess the bias and effectiveness of these models."
   ]
  },
  {
   "cell_type": "markdown",
   "metadata": {},
   "source": [
    "## Table of Contents\n"
   ]
  },
  {
   "cell_type": "markdown",
   "metadata": {},
   "source": [
    "<div class=\"alert alert-block alert-info\" style=\"margin-top: 10px\">\n",
    "    <ol>\n",
    "        <li><a href=\"#Introduction\">Introduction</a></li>\n",
    "        <li><a href=\"#Import Libraries\">Import Libraries</a></li>\n",
    "        <li><a href=\"#Dataset Analysis\">Dataset Analysis</a></li>\n",
    "        <li><a href=\"#Dataset Preprocessing\">Dataset Preprocessing</a></li>\n",
    "        <li><a href=\"#Dataset Train/Test Split\">Dataset Train/Test Split</a></li>\n",
    "        <li><a href=\"#Decision Tree Regressor model and Evaluation\">Decision Tree Regressor model and Evaluation</a></li>\n",
    "        <li><a href=\"#LOGISTIC REGRESSION\">LOGISTIC REGRESSION</a></li>\n",
    "        <li><a href=\"#RANDOM FOREST\">RANDOM FOREST</a></li>\n",
    "        <li><a href=\"#CONCLUSION\">CONCLUSION</a></li>\n",
    "    </ol>\n",
    "</div>\n",
    "<br>\n",
    "<hr>\n"
   ]
  },
  {
   "cell_type": "markdown",
   "metadata": {
    "jp-MarkdownHeadingCollapsed": true
   },
   "source": [
    "<div id=\"Introduction\">\n",
    "    <h2>1.Introduction</h2>\n",
    "    <br>The dataset used for this analysis is publicly available on the New York City Taxi & Limousine Commission (TLC) website: TLC Trip Record Data. The TLC Yellow Taxi Trip Records for June 2019 were used for this project. This dataset contains detailed information about taxi trips in New York City, including timestamps, locations, fare amounts, and tips.\n",
    "    <br>\n",
    "</div>\n"
   ]
  },
  {
   "cell_type": "markdown",
   "metadata": {
    "jp-MarkdownHeadingCollapsed": true
   },
   "source": [
    "<hr>\n",
    "<div id=\"import_libraries\">\n",
    "    <h2>2.Import Libraries</h2>\n",
    "</div>\n"
   ]
  },
  {
   "cell_type": "code",
   "execution_count": 1,
   "metadata": {},
   "outputs": [
    {
     "name": "stdout",
     "output_type": "stream",
     "text": [
      "Requirement already satisfied: snapml in c:\\users\\dc\\miniconda3\\envs\\learn-multibody-dynamics\\lib\\site-packages (1.15.6)\n",
      "Requirement already satisfied: scikit-learn in c:\\users\\dc\\miniconda3\\envs\\learn-multibody-dynamics\\lib\\site-packages (from snapml) (1.3.0)\n",
      "Requirement already satisfied: scipy in c:\\users\\dc\\miniconda3\\envs\\learn-multibody-dynamics\\lib\\site-packages (from snapml) (1.12.0)\n",
      "Requirement already satisfied: numpy>=1.21.3 in c:\\users\\dc\\miniconda3\\envs\\learn-multibody-dynamics\\lib\\site-packages (from snapml) (1.26.4)\n",
      "Requirement already satisfied: joblib>=1.1.1 in c:\\users\\dc\\miniconda3\\envs\\learn-multibody-dynamics\\lib\\site-packages (from scikit-learn->snapml) (1.2.0)\n",
      "Requirement already satisfied: threadpoolctl>=2.0.0 in c:\\users\\dc\\miniconda3\\envs\\learn-multibody-dynamics\\lib\\site-packages (from scikit-learn->snapml) (2.2.0)\n"
     ]
    }
   ],
   "source": [
    "!pip install snapml"
   ]
  },
  {
   "cell_type": "code",
   "execution_count": 2,
   "metadata": {},
   "outputs": [],
   "source": [
    "# Import the libraries we need to use in this lab\n",
    "from __future__ import print_function\n",
    "import numpy as np\n",
    "import pandas as pd\n",
    "import matplotlib.pyplot as plt\n",
    "%matplotlib inline\n",
    "from sklearn.model_selection import train_test_split\n",
    "from sklearn.preprocessing import normalize, StandardScaler, MinMaxScaler\n",
    "from sklearn.utils.class_weight import compute_sample_weight\n",
    "from sklearn.metrics import mean_squared_error\n",
    "from snapml import DecisionTreeRegressor\n",
    "from sklearn import metrics\n",
    "from sklearn.metrics import mean_squared_error,r2_score\n",
    "from sklearn.linear_model import LogisticRegression\n",
    "from snapml import RandomForestClassifier\n",
    "from sklearn.metrics import accuracy_score\n",
    "import matplotlib.pyplot as plt\n",
    "import time\n",
    "import warnings\n",
    "import gc, sys\n",
    "warnings.filterwarnings('ignore')"
   ]
  },
  {
   "cell_type": "markdown",
   "metadata": {},
   "source": [
    "<hr>\n",
    "<div id=\"dataset_analysis\">\n",
    "    <h2>3.Dataset Analysis</h2>\n",
    "</div>\n"
   ]
  },
  {
   "cell_type": "markdown",
   "metadata": {},
   "source": [
    "<p>Some rows of the raw data were removed based on the following criteria:\n",
    "<ul>\n",
    "<li>Trips reporting 0 tip.</li>\n",
    "<li>Trips where the tip amount was larger than the fare cost.</li>\n",
    "<li>Trips with unusually large fare costs.</li>\n",
    "<li>The 'total_amount' column was removed to avoid data leakage, as it includes the tip amount and could bias the prediction model.</li>\n",
    "<li>The cleaning process ensures the dataset is reliable and relevant for the analysis.</li>\n",
    "<ul>\n",
    "</p>"
   ]
  },
  {
   "cell_type": "code",
   "execution_count": 28,
   "metadata": {},
   "outputs": [
    {
     "name": "stdout",
     "output_type": "stream",
     "text": [
      "There are 3936004 observations in the dataset.\n",
      "There are 18 variables in the dataset.\n"
     ]
    },
    {
     "data": {
      "text/html": [
       "<div>\n",
       "<style scoped>\n",
       "    .dataframe tbody tr th:only-of-type {\n",
       "        vertical-align: middle;\n",
       "    }\n",
       "\n",
       "    .dataframe tbody tr th {\n",
       "        vertical-align: top;\n",
       "    }\n",
       "\n",
       "    .dataframe thead th {\n",
       "        text-align: right;\n",
       "    }\n",
       "</style>\n",
       "<table border=\"1\" class=\"dataframe\">\n",
       "  <thead>\n",
       "    <tr style=\"text-align: right;\">\n",
       "      <th></th>\n",
       "      <th>VendorID</th>\n",
       "      <th>tpep_pickup_datetime</th>\n",
       "      <th>tpep_dropoff_datetime</th>\n",
       "      <th>passenger_count</th>\n",
       "      <th>trip_distance</th>\n",
       "      <th>RatecodeID</th>\n",
       "      <th>store_and_fwd_flag</th>\n",
       "      <th>PULocationID</th>\n",
       "      <th>DOLocationID</th>\n",
       "      <th>payment_type</th>\n",
       "      <th>fare_amount</th>\n",
       "      <th>extra</th>\n",
       "      <th>mta_tax</th>\n",
       "      <th>tip_amount</th>\n",
       "      <th>tolls_amount</th>\n",
       "      <th>improvement_surcharge</th>\n",
       "      <th>total_amount</th>\n",
       "      <th>congestion_surcharge</th>\n",
       "    </tr>\n",
       "  </thead>\n",
       "  <tbody>\n",
       "    <tr>\n",
       "      <th>0</th>\n",
       "      <td>1</td>\n",
       "      <td>2019-06-01 00:55:13</td>\n",
       "      <td>2019-06-01 00:56:17</td>\n",
       "      <td>1.0</td>\n",
       "      <td>0.0</td>\n",
       "      <td>1.0</td>\n",
       "      <td>N</td>\n",
       "      <td>145.0</td>\n",
       "      <td>145.0</td>\n",
       "      <td>2.0</td>\n",
       "      <td>3.0</td>\n",
       "      <td>0.5</td>\n",
       "      <td>0.5</td>\n",
       "      <td>0.00</td>\n",
       "      <td>0.0</td>\n",
       "      <td>0.3</td>\n",
       "      <td>4.30</td>\n",
       "      <td>0.0</td>\n",
       "    </tr>\n",
       "    <tr>\n",
       "      <th>1</th>\n",
       "      <td>1</td>\n",
       "      <td>2019-06-01 00:06:31</td>\n",
       "      <td>2019-06-01 00:06:52</td>\n",
       "      <td>1.0</td>\n",
       "      <td>0.0</td>\n",
       "      <td>1.0</td>\n",
       "      <td>N</td>\n",
       "      <td>262.0</td>\n",
       "      <td>263.0</td>\n",
       "      <td>2.0</td>\n",
       "      <td>2.5</td>\n",
       "      <td>3.0</td>\n",
       "      <td>0.5</td>\n",
       "      <td>0.00</td>\n",
       "      <td>0.0</td>\n",
       "      <td>0.3</td>\n",
       "      <td>6.30</td>\n",
       "      <td>2.5</td>\n",
       "    </tr>\n",
       "    <tr>\n",
       "      <th>2</th>\n",
       "      <td>1</td>\n",
       "      <td>2019-06-01 00:17:05</td>\n",
       "      <td>2019-06-01 00:36:38</td>\n",
       "      <td>1.0</td>\n",
       "      <td>4.4</td>\n",
       "      <td>1.0</td>\n",
       "      <td>N</td>\n",
       "      <td>74.0</td>\n",
       "      <td>7.0</td>\n",
       "      <td>2.0</td>\n",
       "      <td>17.5</td>\n",
       "      <td>0.5</td>\n",
       "      <td>0.5</td>\n",
       "      <td>0.00</td>\n",
       "      <td>0.0</td>\n",
       "      <td>0.3</td>\n",
       "      <td>18.80</td>\n",
       "      <td>0.0</td>\n",
       "    </tr>\n",
       "    <tr>\n",
       "      <th>3</th>\n",
       "      <td>1</td>\n",
       "      <td>2019-06-01 00:59:02</td>\n",
       "      <td>2019-06-01 00:59:12</td>\n",
       "      <td>0.0</td>\n",
       "      <td>0.8</td>\n",
       "      <td>1.0</td>\n",
       "      <td>N</td>\n",
       "      <td>145.0</td>\n",
       "      <td>145.0</td>\n",
       "      <td>2.0</td>\n",
       "      <td>2.5</td>\n",
       "      <td>1.0</td>\n",
       "      <td>0.5</td>\n",
       "      <td>0.00</td>\n",
       "      <td>0.0</td>\n",
       "      <td>0.3</td>\n",
       "      <td>4.30</td>\n",
       "      <td>0.0</td>\n",
       "    </tr>\n",
       "    <tr>\n",
       "      <th>4</th>\n",
       "      <td>1</td>\n",
       "      <td>2019-06-01 00:03:25</td>\n",
       "      <td>2019-06-01 00:15:42</td>\n",
       "      <td>1.0</td>\n",
       "      <td>1.7</td>\n",
       "      <td>1.0</td>\n",
       "      <td>N</td>\n",
       "      <td>113.0</td>\n",
       "      <td>148.0</td>\n",
       "      <td>1.0</td>\n",
       "      <td>9.5</td>\n",
       "      <td>3.0</td>\n",
       "      <td>0.5</td>\n",
       "      <td>2.65</td>\n",
       "      <td>0.0</td>\n",
       "      <td>0.3</td>\n",
       "      <td>15.95</td>\n",
       "      <td>2.5</td>\n",
       "    </tr>\n",
       "    <tr>\n",
       "      <th>5</th>\n",
       "      <td>1</td>\n",
       "      <td>2019-06-01 00:28:31</td>\n",
       "      <td>2019-06-01 00:39:23</td>\n",
       "      <td>2.0</td>\n",
       "      <td>1.6</td>\n",
       "      <td>1.0</td>\n",
       "      <td>N</td>\n",
       "      <td>79.0</td>\n",
       "      <td>125.0</td>\n",
       "      <td>1.0</td>\n",
       "      <td>9.5</td>\n",
       "      <td>3.0</td>\n",
       "      <td>0.5</td>\n",
       "      <td>1.00</td>\n",
       "      <td>0.0</td>\n",
       "      <td>0.3</td>\n",
       "      <td>14.30</td>\n",
       "      <td>2.5</td>\n",
       "    </tr>\n",
       "    <tr>\n",
       "      <th>6</th>\n",
       "      <td>1</td>\n",
       "      <td>2019-06-01 00:46:46</td>\n",
       "      <td>2019-06-01 00:50:55</td>\n",
       "      <td>4.0</td>\n",
       "      <td>0.6</td>\n",
       "      <td>1.0</td>\n",
       "      <td>N</td>\n",
       "      <td>211.0</td>\n",
       "      <td>148.0</td>\n",
       "      <td>2.0</td>\n",
       "      <td>4.5</td>\n",
       "      <td>3.0</td>\n",
       "      <td>0.5</td>\n",
       "      <td>0.00</td>\n",
       "      <td>0.0</td>\n",
       "      <td>0.3</td>\n",
       "      <td>8.30</td>\n",
       "      <td>2.5</td>\n",
       "    </tr>\n",
       "    <tr>\n",
       "      <th>7</th>\n",
       "      <td>1</td>\n",
       "      <td>2019-06-01 00:54:49</td>\n",
       "      <td>2019-06-01 01:02:57</td>\n",
       "      <td>2.0</td>\n",
       "      <td>1.2</td>\n",
       "      <td>1.0</td>\n",
       "      <td>N</td>\n",
       "      <td>79.0</td>\n",
       "      <td>249.0</td>\n",
       "      <td>1.0</td>\n",
       "      <td>7.5</td>\n",
       "      <td>3.0</td>\n",
       "      <td>0.5</td>\n",
       "      <td>1.00</td>\n",
       "      <td>0.0</td>\n",
       "      <td>0.3</td>\n",
       "      <td>12.30</td>\n",
       "      <td>2.5</td>\n",
       "    </tr>\n",
       "    <tr>\n",
       "      <th>8</th>\n",
       "      <td>1</td>\n",
       "      <td>2019-06-01 00:09:57</td>\n",
       "      <td>2019-06-01 00:25:54</td>\n",
       "      <td>2.0</td>\n",
       "      <td>2.0</td>\n",
       "      <td>1.0</td>\n",
       "      <td>N</td>\n",
       "      <td>158.0</td>\n",
       "      <td>68.0</td>\n",
       "      <td>2.0</td>\n",
       "      <td>11.5</td>\n",
       "      <td>3.0</td>\n",
       "      <td>0.5</td>\n",
       "      <td>0.00</td>\n",
       "      <td>0.0</td>\n",
       "      <td>0.3</td>\n",
       "      <td>15.30</td>\n",
       "      <td>2.5</td>\n",
       "    </tr>\n",
       "    <tr>\n",
       "      <th>9</th>\n",
       "      <td>1</td>\n",
       "      <td>2019-06-01 00:29:12</td>\n",
       "      <td>2019-06-01 01:03:13</td>\n",
       "      <td>1.0</td>\n",
       "      <td>8.6</td>\n",
       "      <td>1.0</td>\n",
       "      <td>N</td>\n",
       "      <td>186.0</td>\n",
       "      <td>243.0</td>\n",
       "      <td>1.0</td>\n",
       "      <td>31.5</td>\n",
       "      <td>3.0</td>\n",
       "      <td>0.5</td>\n",
       "      <td>7.05</td>\n",
       "      <td>0.0</td>\n",
       "      <td>0.3</td>\n",
       "      <td>42.35</td>\n",
       "      <td>2.5</td>\n",
       "    </tr>\n",
       "  </tbody>\n",
       "</table>\n",
       "</div>"
      ],
      "text/plain": [
       "   VendorID tpep_pickup_datetime tpep_dropoff_datetime  passenger_count  \\\n",
       "0         1  2019-06-01 00:55:13   2019-06-01 00:56:17              1.0   \n",
       "1         1  2019-06-01 00:06:31   2019-06-01 00:06:52              1.0   \n",
       "2         1  2019-06-01 00:17:05   2019-06-01 00:36:38              1.0   \n",
       "3         1  2019-06-01 00:59:02   2019-06-01 00:59:12              0.0   \n",
       "4         1  2019-06-01 00:03:25   2019-06-01 00:15:42              1.0   \n",
       "5         1  2019-06-01 00:28:31   2019-06-01 00:39:23              2.0   \n",
       "6         1  2019-06-01 00:46:46   2019-06-01 00:50:55              4.0   \n",
       "7         1  2019-06-01 00:54:49   2019-06-01 01:02:57              2.0   \n",
       "8         1  2019-06-01 00:09:57   2019-06-01 00:25:54              2.0   \n",
       "9         1  2019-06-01 00:29:12   2019-06-01 01:03:13              1.0   \n",
       "\n",
       "   trip_distance  RatecodeID store_and_fwd_flag  PULocationID  DOLocationID  \\\n",
       "0            0.0         1.0                  N         145.0         145.0   \n",
       "1            0.0         1.0                  N         262.0         263.0   \n",
       "2            4.4         1.0                  N          74.0           7.0   \n",
       "3            0.8         1.0                  N         145.0         145.0   \n",
       "4            1.7         1.0                  N         113.0         148.0   \n",
       "5            1.6         1.0                  N          79.0         125.0   \n",
       "6            0.6         1.0                  N         211.0         148.0   \n",
       "7            1.2         1.0                  N          79.0         249.0   \n",
       "8            2.0         1.0                  N         158.0          68.0   \n",
       "9            8.6         1.0                  N         186.0         243.0   \n",
       "\n",
       "   payment_type  fare_amount  extra  mta_tax  tip_amount  tolls_amount  \\\n",
       "0           2.0          3.0    0.5      0.5        0.00           0.0   \n",
       "1           2.0          2.5    3.0      0.5        0.00           0.0   \n",
       "2           2.0         17.5    0.5      0.5        0.00           0.0   \n",
       "3           2.0          2.5    1.0      0.5        0.00           0.0   \n",
       "4           1.0          9.5    3.0      0.5        2.65           0.0   \n",
       "5           1.0          9.5    3.0      0.5        1.00           0.0   \n",
       "6           2.0          4.5    3.0      0.5        0.00           0.0   \n",
       "7           1.0          7.5    3.0      0.5        1.00           0.0   \n",
       "8           2.0         11.5    3.0      0.5        0.00           0.0   \n",
       "9           1.0         31.5    3.0      0.5        7.05           0.0   \n",
       "\n",
       "   improvement_surcharge  total_amount  congestion_surcharge  \n",
       "0                    0.3          4.30                   0.0  \n",
       "1                    0.3          6.30                   2.5  \n",
       "2                    0.3         18.80                   0.0  \n",
       "3                    0.3          4.30                   0.0  \n",
       "4                    0.3         15.95                   2.5  \n",
       "5                    0.3         14.30                   2.5  \n",
       "6                    0.3          8.30                   2.5  \n",
       "7                    0.3         12.30                   2.5  \n",
       "8                    0.3         15.30                   2.5  \n",
       "9                    0.3         42.35                   2.5  "
      ]
     },
     "execution_count": 28,
     "metadata": {},
     "output_type": "execute_result"
    }
   ],
   "source": [
    "# read the input data\n",
    "raw_data = pd.read_csv('yellow_tripdata_2019-06.csv')\n",
    "print(\"There are \" + str(len(raw_data)) + \" observations in the dataset.\")\n",
    "print(\"There are \" + str(len(raw_data.columns)) + \" variables in the dataset.\")\n",
    "\n",
    "# display first rows in the dataset\n",
    "raw_data.head(10)"
   ]
  },
  {
   "cell_type": "code",
   "execution_count": 29,
   "metadata": {},
   "outputs": [
    {
     "data": {
      "text/plain": [
       "Index(['VendorID', 'tpep_pickup_datetime', 'tpep_dropoff_datetime',\n",
       "       'passenger_count', 'trip_distance', 'RatecodeID', 'store_and_fwd_flag',\n",
       "       'PULocationID', 'DOLocationID', 'payment_type', 'fare_amount', 'extra',\n",
       "       'mta_tax', 'tip_amount', 'tolls_amount', 'improvement_surcharge',\n",
       "       'total_amount', 'congestion_surcharge'],\n",
       "      dtype='object')"
      ]
     },
     "execution_count": 29,
     "metadata": {},
     "output_type": "execute_result"
    }
   ],
   "source": [
    "raw_data.columns"
   ]
  },
  {
   "cell_type": "code",
   "execution_count": 30,
   "metadata": {},
   "outputs": [
    {
     "name": "stdout",
     "output_type": "stream",
     "text": [
      "There are 2712719 observations in the dataset.\n",
      "There are 17 variables in the dataset.\n"
     ]
    },
    {
     "data": {
      "image/png": "[encoded data removed]",
      "text/plain": [
       "<Figure size 640x480 with 1 Axes>"
      ]
     },
     "metadata": {},
     "output_type": "display_data"
    },
    {
     "name": "stdout",
     "output_type": "stream",
     "text": [
      "Minimum amount value is  0.01\n",
      "Maximum amount value is  130.0\n",
      "90% of the trips have a tip amount less or equal than  5.95\n"
     ]
    }
   ],
   "source": [
    "# some trips report 0 tip. it is assumed that these tips were paid in cash.\n",
    "# for this study we drop all these rows\n",
    "raw_data = raw_data[raw_data['tip_amount'] > 0]\n",
    "\n",
    "# we also remove some outliers, namely those where the tip was larger than the fare cost\n",
    "raw_data = raw_data[(raw_data['tip_amount'] <= raw_data['fare_amount'])]\n",
    "\n",
    "# we remove trips with very large fare cost\n",
    "raw_data = raw_data[((raw_data['fare_amount'] >=2) & (raw_data['fare_amount'] < 200))]\n",
    "\n",
    "# we drop variables that include the target variable in it, namely the total_amount\n",
    "clean_data = raw_data.drop(['total_amount'], axis=1)\n",
    "\n",
    "# release memory occupied by raw_data as we do not need it anymore\n",
    "# we are dealing with a large dataset, thus we need to make sure we do not run out of memory\n",
    "del raw_data\n",
    "gc.collect()\n",
    "\n",
    "# print the number of trips left in the dataset\n",
    "print(\"There are \" + str(len(clean_data)) + \" observations in the dataset.\")\n",
    "print(\"There are \" + str(len(clean_data.columns)) + \" variables in the dataset.\")\n",
    "\n",
    "plt.hist(clean_data.tip_amount.values, 30, histtype='bar', facecolor='g')\n",
    "plt.xlim(0, 30)\n",
    "plt.xlabel('Tip Amount')\n",
    "plt.ylabel('Frequency')\n",
    "plt.title('Histogram of Tip Amounts')\n",
    "plt.show()\n",
    "\n",
    "print(\"Minimum amount value is \", np.min(clean_data.tip_amount.values))\n",
    "print(\"Maximum amount value is \", np.max(clean_data.tip_amount.values))\n",
    "print(\"90% of the trips have a tip amount less or equal than \", np.percentile(clean_data.tip_amount.values, 90))"
   ]
  },
  {
   "cell_type": "markdown",
   "metadata": {},
   "source": [
    "<hr>\n",
    "<div id=\"dataset_preprocessing\">\n",
    "    <h2>4.Dataset Preprocessing</h2>\n",
    "</div>\n"
   ]
  },
  {
   "cell_type": "code",
   "execution_count": 8,
   "metadata": {},
   "outputs": [],
   "source": [
    "# Convert 'tpep_dropoff_datetime' and 'tpep_pickup_datetime' columns to datetime objects\n",
    "clean_data['tpep_dropoff_datetime'] = pd.to_datetime(clean_data['tpep_dropoff_datetime'])\n",
    "clean_data['tpep_pickup_datetime'] = pd.to_datetime(clean_data['tpep_pickup_datetime'])\n",
    "\n",
    "# Extract pickup and dropoff hour\n",
    "clean_data['pickup_hour'] = clean_data['tpep_pickup_datetime'].dt.hour\n",
    "clean_data['dropoff_hour'] = clean_data['tpep_dropoff_datetime'].dt.hour\n",
    "\n",
    "# Extract pickup and dropoff day of the week (0 = Monday, 6 = Sunday)\n",
    "clean_data['pickup_day'] = clean_data['tpep_pickup_datetime'].dt.weekday\n",
    "clean_data['dropoff_day'] = clean_data['tpep_dropoff_datetime'].dt.weekday\n",
    "\n",
    "# Calculate trip time in seconds\n",
    "clean_data['trip_time'] = (clean_data['tpep_dropoff_datetime'] - clean_data['tpep_pickup_datetime']).dt.total_seconds()\n"
   ]
  },
  {
   "cell_type": "code",
   "execution_count": 9,
   "metadata": {},
   "outputs": [
    {
     "data": {
      "text/plain": [
       "78"
      ]
     },
     "execution_count": 9,
     "metadata": {},
     "output_type": "execute_result"
    }
   ],
   "source": [
    "data=clean_data.sort_values(by='tpep_pickup_datetime')\n",
    "del clean_data\n",
    "gc.collect()"
   ]
  },
  {
   "cell_type": "code",
   "execution_count": 10,
   "metadata": {},
   "outputs": [
    {
     "data": {
      "text/html": [
       "<div>\n",
       "<style scoped>\n",
       "    .dataframe tbody tr th:only-of-type {\n",
       "        vertical-align: middle;\n",
       "    }\n",
       "\n",
       "    .dataframe tbody tr th {\n",
       "        vertical-align: top;\n",
       "    }\n",
       "\n",
       "    .dataframe thead th {\n",
       "        text-align: right;\n",
       "    }\n",
       "</style>\n",
       "<table border=\"1\" class=\"dataframe\">\n",
       "  <thead>\n",
       "    <tr style=\"text-align: right;\">\n",
       "      <th></th>\n",
       "      <th>VendorID</th>\n",
       "      <th>tpep_pickup_datetime</th>\n",
       "      <th>tpep_dropoff_datetime</th>\n",
       "      <th>passenger_count</th>\n",
       "      <th>trip_distance</th>\n",
       "      <th>RatecodeID</th>\n",
       "      <th>store_and_fwd_flag</th>\n",
       "      <th>PULocationID</th>\n",
       "      <th>DOLocationID</th>\n",
       "      <th>payment_type</th>\n",
       "      <th>...</th>\n",
       "      <th>mta_tax</th>\n",
       "      <th>tip_amount</th>\n",
       "      <th>tolls_amount</th>\n",
       "      <th>improvement_surcharge</th>\n",
       "      <th>congestion_surcharge</th>\n",
       "      <th>pickup_hour</th>\n",
       "      <th>dropoff_hour</th>\n",
       "      <th>pickup_day</th>\n",
       "      <th>dropoff_day</th>\n",
       "      <th>trip_time</th>\n",
       "    </tr>\n",
       "  </thead>\n",
       "  <tbody>\n",
       "    <tr>\n",
       "      <th>3091703</th>\n",
       "      <td>2</td>\n",
       "      <td>2008-12-31 23:05:05</td>\n",
       "      <td>2009-01-01 05:00:47</td>\n",
       "      <td>1.0</td>\n",
       "      <td>8.85</td>\n",
       "      <td>1.0</td>\n",
       "      <td>N</td>\n",
       "      <td>170.0</td>\n",
       "      <td>138.0</td>\n",
       "      <td>1.0</td>\n",
       "      <td>...</td>\n",
       "      <td>0.5</td>\n",
       "      <td>10.93</td>\n",
       "      <td>6.12</td>\n",
       "      <td>0.3</td>\n",
       "      <td>2.5</td>\n",
       "      <td>23</td>\n",
       "      <td>5</td>\n",
       "      <td>2</td>\n",
       "      <td>3</td>\n",
       "      <td>21342.0</td>\n",
       "    </tr>\n",
       "    <tr>\n",
       "      <th>459216</th>\n",
       "      <td>2</td>\n",
       "      <td>2008-12-31 23:11:48</td>\n",
       "      <td>2009-01-01 01:45:44</td>\n",
       "      <td>2.0</td>\n",
       "      <td>18.84</td>\n",
       "      <td>2.0</td>\n",
       "      <td>N</td>\n",
       "      <td>132.0</td>\n",
       "      <td>264.0</td>\n",
       "      <td>1.0</td>\n",
       "      <td>...</td>\n",
       "      <td>0.5</td>\n",
       "      <td>12.28</td>\n",
       "      <td>6.12</td>\n",
       "      <td>0.3</td>\n",
       "      <td>0.0</td>\n",
       "      <td>23</td>\n",
       "      <td>1</td>\n",
       "      <td>2</td>\n",
       "      <td>3</td>\n",
       "      <td>9236.0</td>\n",
       "    </tr>\n",
       "    <tr>\n",
       "      <th>3356848</th>\n",
       "      <td>2</td>\n",
       "      <td>2009-01-01 00:05:27</td>\n",
       "      <td>2009-01-01 00:21:53</td>\n",
       "      <td>1.0</td>\n",
       "      <td>7.77</td>\n",
       "      <td>1.0</td>\n",
       "      <td>N</td>\n",
       "      <td>138.0</td>\n",
       "      <td>41.0</td>\n",
       "      <td>1.0</td>\n",
       "      <td>...</td>\n",
       "      <td>0.5</td>\n",
       "      <td>5.98</td>\n",
       "      <td>6.12</td>\n",
       "      <td>0.3</td>\n",
       "      <td>0.0</td>\n",
       "      <td>0</td>\n",
       "      <td>0</td>\n",
       "      <td>3</td>\n",
       "      <td>3</td>\n",
       "      <td>986.0</td>\n",
       "    </tr>\n",
       "    <tr>\n",
       "      <th>657225</th>\n",
       "      <td>2</td>\n",
       "      <td>2009-01-01 00:06:39</td>\n",
       "      <td>2009-01-01 21:10:31</td>\n",
       "      <td>5.0</td>\n",
       "      <td>1.10</td>\n",
       "      <td>1.0</td>\n",
       "      <td>N</td>\n",
       "      <td>234.0</td>\n",
       "      <td>170.0</td>\n",
       "      <td>1.0</td>\n",
       "      <td>...</td>\n",
       "      <td>0.5</td>\n",
       "      <td>1.96</td>\n",
       "      <td>0.00</td>\n",
       "      <td>0.3</td>\n",
       "      <td>2.5</td>\n",
       "      <td>0</td>\n",
       "      <td>21</td>\n",
       "      <td>3</td>\n",
       "      <td>3</td>\n",
       "      <td>75832.0</td>\n",
       "    </tr>\n",
       "    <tr>\n",
       "      <th>628840</th>\n",
       "      <td>2</td>\n",
       "      <td>2009-01-01 00:06:41</td>\n",
       "      <td>2009-01-01 19:45:29</td>\n",
       "      <td>1.0</td>\n",
       "      <td>1.15</td>\n",
       "      <td>1.0</td>\n",
       "      <td>N</td>\n",
       "      <td>161.0</td>\n",
       "      <td>161.0</td>\n",
       "      <td>1.0</td>\n",
       "      <td>...</td>\n",
       "      <td>0.5</td>\n",
       "      <td>1.00</td>\n",
       "      <td>0.00</td>\n",
       "      <td>0.3</td>\n",
       "      <td>2.5</td>\n",
       "      <td>0</td>\n",
       "      <td>19</td>\n",
       "      <td>3</td>\n",
       "      <td>3</td>\n",
       "      <td>70728.0</td>\n",
       "    </tr>\n",
       "    <tr>\n",
       "      <th>...</th>\n",
       "      <td>...</td>\n",
       "      <td>...</td>\n",
       "      <td>...</td>\n",
       "      <td>...</td>\n",
       "      <td>...</td>\n",
       "      <td>...</td>\n",
       "      <td>...</td>\n",
       "      <td>...</td>\n",
       "      <td>...</td>\n",
       "      <td>...</td>\n",
       "      <td>...</td>\n",
       "      <td>...</td>\n",
       "      <td>...</td>\n",
       "      <td>...</td>\n",
       "      <td>...</td>\n",
       "      <td>...</td>\n",
       "      <td>...</td>\n",
       "      <td>...</td>\n",
       "      <td>...</td>\n",
       "      <td>...</td>\n",
       "      <td>...</td>\n",
       "    </tr>\n",
       "    <tr>\n",
       "      <th>3289274</th>\n",
       "      <td>2</td>\n",
       "      <td>2019-09-28 18:33:49</td>\n",
       "      <td>2019-09-28 18:45:28</td>\n",
       "      <td>2.0</td>\n",
       "      <td>1.88</td>\n",
       "      <td>1.0</td>\n",
       "      <td>N</td>\n",
       "      <td>43.0</td>\n",
       "      <td>233.0</td>\n",
       "      <td>1.0</td>\n",
       "      <td>...</td>\n",
       "      <td>0.5</td>\n",
       "      <td>2.66</td>\n",
       "      <td>0.00</td>\n",
       "      <td>0.3</td>\n",
       "      <td>2.5</td>\n",
       "      <td>18</td>\n",
       "      <td>18</td>\n",
       "      <td>5</td>\n",
       "      <td>5</td>\n",
       "      <td>699.0</td>\n",
       "    </tr>\n",
       "    <tr>\n",
       "      <th>668781</th>\n",
       "      <td>2</td>\n",
       "      <td>2019-10-09 02:27:10</td>\n",
       "      <td>2019-10-09 02:32:46</td>\n",
       "      <td>1.0</td>\n",
       "      <td>1.39</td>\n",
       "      <td>1.0</td>\n",
       "      <td>N</td>\n",
       "      <td>186.0</td>\n",
       "      <td>230.0</td>\n",
       "      <td>1.0</td>\n",
       "      <td>...</td>\n",
       "      <td>0.5</td>\n",
       "      <td>2.06</td>\n",
       "      <td>0.00</td>\n",
       "      <td>0.3</td>\n",
       "      <td>2.5</td>\n",
       "      <td>2</td>\n",
       "      <td>2</td>\n",
       "      <td>2</td>\n",
       "      <td>2</td>\n",
       "      <td>336.0</td>\n",
       "    </tr>\n",
       "    <tr>\n",
       "      <th>668782</th>\n",
       "      <td>2</td>\n",
       "      <td>2019-10-09 02:34:17</td>\n",
       "      <td>2019-10-09 02:47:59</td>\n",
       "      <td>1.0</td>\n",
       "      <td>2.73</td>\n",
       "      <td>1.0</td>\n",
       "      <td>N</td>\n",
       "      <td>230.0</td>\n",
       "      <td>141.0</td>\n",
       "      <td>1.0</td>\n",
       "      <td>...</td>\n",
       "      <td>0.5</td>\n",
       "      <td>3.95</td>\n",
       "      <td>0.00</td>\n",
       "      <td>0.3</td>\n",
       "      <td>2.5</td>\n",
       "      <td>2</td>\n",
       "      <td>2</td>\n",
       "      <td>2</td>\n",
       "      <td>2</td>\n",
       "      <td>822.0</td>\n",
       "    </tr>\n",
       "    <tr>\n",
       "      <th>668783</th>\n",
       "      <td>2</td>\n",
       "      <td>2019-10-09 02:57:09</td>\n",
       "      <td>2019-10-09 03:00:15</td>\n",
       "      <td>2.0</td>\n",
       "      <td>0.62</td>\n",
       "      <td>1.0</td>\n",
       "      <td>N</td>\n",
       "      <td>237.0</td>\n",
       "      <td>236.0</td>\n",
       "      <td>1.0</td>\n",
       "      <td>...</td>\n",
       "      <td>0.5</td>\n",
       "      <td>2.08</td>\n",
       "      <td>0.00</td>\n",
       "      <td>0.3</td>\n",
       "      <td>2.5</td>\n",
       "      <td>2</td>\n",
       "      <td>3</td>\n",
       "      <td>2</td>\n",
       "      <td>2</td>\n",
       "      <td>186.0</td>\n",
       "    </tr>\n",
       "    <tr>\n",
       "      <th>738643</th>\n",
       "      <td>2</td>\n",
       "      <td>2019-10-09 14:40:31</td>\n",
       "      <td>2019-10-10 10:18:37</td>\n",
       "      <td>6.0</td>\n",
       "      <td>0.89</td>\n",
       "      <td>1.0</td>\n",
       "      <td>N</td>\n",
       "      <td>164.0</td>\n",
       "      <td>113.0</td>\n",
       "      <td>1.0</td>\n",
       "      <td>...</td>\n",
       "      <td>0.5</td>\n",
       "      <td>1.96</td>\n",
       "      <td>0.00</td>\n",
       "      <td>0.3</td>\n",
       "      <td>0.0</td>\n",
       "      <td>14</td>\n",
       "      <td>10</td>\n",
       "      <td>2</td>\n",
       "      <td>3</td>\n",
       "      <td>70686.0</td>\n",
       "    </tr>\n",
       "  </tbody>\n",
       "</table>\n",
       "<p>2712718 rows × 22 columns</p>\n",
       "</div>"
      ],
      "text/plain": [
       "         VendorID tpep_pickup_datetime tpep_dropoff_datetime  passenger_count  \\\n",
       "3091703         2  2008-12-31 23:05:05   2009-01-01 05:00:47              1.0   \n",
       "459216          2  2008-12-31 23:11:48   2009-01-01 01:45:44              2.0   \n",
       "3356848         2  2009-01-01 00:05:27   2009-01-01 00:21:53              1.0   \n",
       "657225          2  2009-01-01 00:06:39   2009-01-01 21:10:31              5.0   \n",
       "628840          2  2009-01-01 00:06:41   2009-01-01 19:45:29              1.0   \n",
       "...           ...                  ...                   ...              ...   \n",
       "3289274         2  2019-09-28 18:33:49   2019-09-28 18:45:28              2.0   \n",
       "668781          2  2019-10-09 02:27:10   2019-10-09 02:32:46              1.0   \n",
       "668782          2  2019-10-09 02:34:17   2019-10-09 02:47:59              1.0   \n",
       "668783          2  2019-10-09 02:57:09   2019-10-09 03:00:15              2.0   \n",
       "738643          2  2019-10-09 14:40:31   2019-10-10 10:18:37              6.0   \n",
       "\n",
       "         trip_distance  RatecodeID store_and_fwd_flag  PULocationID  \\\n",
       "3091703           8.85         1.0                  N         170.0   \n",
       "459216           18.84         2.0                  N         132.0   \n",
       "3356848           7.77         1.0                  N         138.0   \n",
       "657225            1.10         1.0                  N         234.0   \n",
       "628840            1.15         1.0                  N         161.0   \n",
       "...                ...         ...                ...           ...   \n",
       "3289274           1.88         1.0                  N          43.0   \n",
       "668781            1.39         1.0                  N         186.0   \n",
       "668782            2.73         1.0                  N         230.0   \n",
       "668783            0.62         1.0                  N         237.0   \n",
       "738643            0.89         1.0                  N         164.0   \n",
       "\n",
       "         DOLocationID  payment_type  ...  mta_tax  tip_amount  tolls_amount  \\\n",
       "3091703         138.0           1.0  ...      0.5       10.93          6.12   \n",
       "459216          264.0           1.0  ...      0.5       12.28          6.12   \n",
       "3356848          41.0           1.0  ...      0.5        5.98          6.12   \n",
       "657225          170.0           1.0  ...      0.5        1.96          0.00   \n",
       "628840          161.0           1.0  ...      0.5        1.00          0.00   \n",
       "...               ...           ...  ...      ...         ...           ...   \n",
       "3289274         233.0           1.0  ...      0.5        2.66          0.00   \n",
       "668781          230.0           1.0  ...      0.5        2.06          0.00   \n",
       "668782          141.0           1.0  ...      0.5        3.95          0.00   \n",
       "668783          236.0           1.0  ...      0.5        2.08          0.00   \n",
       "738643          113.0           1.0  ...      0.5        1.96          0.00   \n",
       "\n",
       "         improvement_surcharge  congestion_surcharge  pickup_hour  \\\n",
       "3091703                    0.3                   2.5           23   \n",
       "459216                     0.3                   0.0           23   \n",
       "3356848                    0.3                   0.0            0   \n",
       "657225                     0.3                   2.5            0   \n",
       "628840                     0.3                   2.5            0   \n",
       "...                        ...                   ...          ...   \n",
       "3289274                    0.3                   2.5           18   \n",
       "668781                     0.3                   2.5            2   \n",
       "668782                     0.3                   2.5            2   \n",
       "668783                     0.3                   2.5            2   \n",
       "738643                     0.3                   0.0           14   \n",
       "\n",
       "         dropoff_hour  pickup_day  dropoff_day  trip_time  \n",
       "3091703             5           2            3    21342.0  \n",
       "459216              1           2            3     9236.0  \n",
       "3356848             0           3            3      986.0  \n",
       "657225             21           3            3    75832.0  \n",
       "628840             19           3            3    70728.0  \n",
       "...               ...         ...          ...        ...  \n",
       "3289274            18           5            5      699.0  \n",
       "668781              2           2            2      336.0  \n",
       "668782              2           2            2      822.0  \n",
       "668783              3           2            2      186.0  \n",
       "738643             10           2            3    70686.0  \n",
       "\n",
       "[2712718 rows x 22 columns]"
      ]
     },
     "execution_count": 10,
     "metadata": {},
     "output_type": "execute_result"
    }
   ],
   "source": [
    "data.drop(index=281946)"
   ]
  },
  {
   "cell_type": "code",
   "execution_count": 11,
   "metadata": {},
   "outputs": [],
   "source": [
    "data['store_and_fwd_flag'] = data['store_and_fwd_flag'].map({'Y': 1, 'N': 0})"
   ]
  },
  {
   "cell_type": "markdown",
   "metadata": {},
   "source": [
    "<h3>Correlation Analysis</h3>\n",
    "<p>Correlation analysis was performed to understand how different factors affect the tip amount:</p>\n",
    "\n",
    "<ul>\n",
    "<li>Trip Distance: Highest positive correlation with tip amount (0.8), indicating longer trips tend to receive higher tips.</li>\n",
    "<li>Congestion Surcharge: Highest negative correlation with tip amount (-0.2), indicating that trips with a congestion surcharge tend to receive lower tips.</li>\n",
    "<ul>"
   ]
  },
  {
   "cell_type": "code",
   "execution_count": 12,
   "metadata": {},
   "outputs": [
    {
     "data": {
      "text/html": [
       "<div>\n",
       "<style scoped>\n",
       "    .dataframe tbody tr th:only-of-type {\n",
       "        vertical-align: middle;\n",
       "    }\n",
       "\n",
       "    .dataframe tbody tr th {\n",
       "        vertical-align: top;\n",
       "    }\n",
       "\n",
       "    .dataframe thead th {\n",
       "        text-align: right;\n",
       "    }\n",
       "</style>\n",
       "<table border=\"1\" class=\"dataframe\">\n",
       "  <thead>\n",
       "    <tr style=\"text-align: right;\">\n",
       "      <th></th>\n",
       "      <th>VendorID</th>\n",
       "      <th>passenger_count</th>\n",
       "      <th>trip_distance</th>\n",
       "      <th>RatecodeID</th>\n",
       "      <th>fare_amount</th>\n",
       "      <th>extra</th>\n",
       "      <th>mta_tax</th>\n",
       "      <th>tip_amount</th>\n",
       "      <th>tolls_amount</th>\n",
       "      <th>improvement_surcharge</th>\n",
       "      <th>congestion_surcharge</th>\n",
       "      <th>pickup_hour</th>\n",
       "      <th>dropoff_hour</th>\n",
       "      <th>pickup_day</th>\n",
       "      <th>dropoff_day</th>\n",
       "      <th>trip_time</th>\n",
       "    </tr>\n",
       "  </thead>\n",
       "  <tbody>\n",
       "    <tr>\n",
       "      <th>VendorID</th>\n",
       "      <td>1.000000</td>\n",
       "      <td>0.202199</td>\n",
       "      <td>0.024527</td>\n",
       "      <td>0.016950</td>\n",
       "      <td>0.023203</td>\n",
       "      <td>-0.863893</td>\n",
       "      <td>0.004100</td>\n",
       "      <td>0.032897</td>\n",
       "      <td>0.017817</td>\n",
       "      <td>-0.007515</td>\n",
       "      <td>-0.014582</td>\n",
       "      <td>-0.001919</td>\n",
       "      <td>-0.003392</td>\n",
       "      <td>0.015941</td>\n",
       "      <td>0.016057</td>\n",
       "      <td>0.033720</td>\n",
       "    </tr>\n",
       "    <tr>\n",
       "      <th>passenger_count</th>\n",
       "      <td>0.202199</td>\n",
       "      <td>1.000000</td>\n",
       "      <td>0.007590</td>\n",
       "      <td>-0.001946</td>\n",
       "      <td>0.004953</td>\n",
       "      <td>-0.192068</td>\n",
       "      <td>0.003603</td>\n",
       "      <td>0.008178</td>\n",
       "      <td>0.004645</td>\n",
       "      <td>0.000549</td>\n",
       "      <td>0.000312</td>\n",
       "      <td>0.010422</td>\n",
       "      <td>0.009583</td>\n",
       "      <td>0.032756</td>\n",
       "      <td>0.032780</td>\n",
       "      <td>0.012084</td>\n",
       "    </tr>\n",
       "    <tr>\n",
       "      <th>trip_distance</th>\n",
       "      <td>0.024527</td>\n",
       "      <td>0.007590</td>\n",
       "      <td>1.000000</td>\n",
       "      <td>0.370755</td>\n",
       "      <td>0.905806</td>\n",
       "      <td>-0.018625</td>\n",
       "      <td>-0.129049</td>\n",
       "      <td>0.810086</td>\n",
       "      <td>0.657707</td>\n",
       "      <td>0.007635</td>\n",
       "      <td>-0.238564</td>\n",
       "      <td>-0.010744</td>\n",
       "      <td>-0.009171</td>\n",
       "      <td>0.014930</td>\n",
       "      <td>0.013607</td>\n",
       "      <td>0.164667</td>\n",
       "    </tr>\n",
       "    <tr>\n",
       "      <th>RatecodeID</th>\n",
       "      <td>0.016950</td>\n",
       "      <td>-0.001946</td>\n",
       "      <td>0.370755</td>\n",
       "      <td>1.000000</td>\n",
       "      <td>0.535009</td>\n",
       "      <td>-0.034310</td>\n",
       "      <td>-0.471624</td>\n",
       "      <td>0.455102</td>\n",
       "      <td>0.375040</td>\n",
       "      <td>-0.158160</td>\n",
       "      <td>-0.231601</td>\n",
       "      <td>-0.010061</td>\n",
       "      <td>-0.005366</td>\n",
       "      <td>0.010232</td>\n",
       "      <td>0.009322</td>\n",
       "      <td>0.048860</td>\n",
       "    </tr>\n",
       "    <tr>\n",
       "      <th>fare_amount</th>\n",
       "      <td>0.023203</td>\n",
       "      <td>0.004953</td>\n",
       "      <td>0.905806</td>\n",
       "      <td>0.535009</td>\n",
       "      <td>1.000000</td>\n",
       "      <td>-0.030251</td>\n",
       "      <td>-0.273789</td>\n",
       "      <td>0.873161</td>\n",
       "      <td>0.653851</td>\n",
       "      <td>-0.041704</td>\n",
       "      <td>-0.279923</td>\n",
       "      <td>-0.001545</td>\n",
       "      <td>0.003537</td>\n",
       "      <td>-0.002598</td>\n",
       "      <td>-0.003395</td>\n",
       "      <td>0.168367</td>\n",
       "    </tr>\n",
       "    <tr>\n",
       "      <th>extra</th>\n",
       "      <td>-0.863893</td>\n",
       "      <td>-0.192068</td>\n",
       "      <td>-0.018625</td>\n",
       "      <td>-0.034310</td>\n",
       "      <td>-0.030251</td>\n",
       "      <td>1.000000</td>\n",
       "      <td>0.042390</td>\n",
       "      <td>-0.018161</td>\n",
       "      <td>-0.016320</td>\n",
       "      <td>0.010814</td>\n",
       "      <td>0.153869</td>\n",
       "      <td>0.115694</td>\n",
       "      <td>0.112963</td>\n",
       "      <td>-0.081063</td>\n",
       "      <td>-0.080471</td>\n",
       "      <td>-0.027120</td>\n",
       "    </tr>\n",
       "    <tr>\n",
       "      <th>mta_tax</th>\n",
       "      <td>0.004100</td>\n",
       "      <td>0.003603</td>\n",
       "      <td>-0.129049</td>\n",
       "      <td>-0.471624</td>\n",
       "      <td>-0.273789</td>\n",
       "      <td>0.042390</td>\n",
       "      <td>1.000000</td>\n",
       "      <td>-0.227717</td>\n",
       "      <td>-0.287616</td>\n",
       "      <td>0.039689</td>\n",
       "      <td>0.231904</td>\n",
       "      <td>0.012524</td>\n",
       "      <td>0.009975</td>\n",
       "      <td>-0.006111</td>\n",
       "      <td>-0.005931</td>\n",
       "      <td>-0.014262</td>\n",
       "    </tr>\n",
       "    <tr>\n",
       "      <th>tip_amount</th>\n",
       "      <td>0.032897</td>\n",
       "      <td>0.008178</td>\n",
       "      <td>0.810086</td>\n",
       "      <td>0.455102</td>\n",
       "      <td>0.873161</td>\n",
       "      <td>-0.018161</td>\n",
       "      <td>-0.227717</td>\n",
       "      <td>1.000000</td>\n",
       "      <td>0.654354</td>\n",
       "      <td>-0.031089</td>\n",
       "      <td>-0.209527</td>\n",
       "      <td>0.011213</td>\n",
       "      <td>0.017204</td>\n",
       "      <td>-0.014866</td>\n",
       "      <td>-0.015535</td>\n",
       "      <td>0.145670</td>\n",
       "    </tr>\n",
       "    <tr>\n",
       "      <th>tolls_amount</th>\n",
       "      <td>0.017817</td>\n",
       "      <td>0.004645</td>\n",
       "      <td>0.657707</td>\n",
       "      <td>0.375040</td>\n",
       "      <td>0.653851</td>\n",
       "      <td>-0.016320</td>\n",
       "      <td>-0.287616</td>\n",
       "      <td>0.654354</td>\n",
       "      <td>1.000000</td>\n",
       "      <td>0.001845</td>\n",
       "      <td>-0.151268</td>\n",
       "      <td>-0.010787</td>\n",
       "      <td>-0.001175</td>\n",
       "      <td>-0.008045</td>\n",
       "      <td>-0.009294</td>\n",
       "      <td>0.101515</td>\n",
       "    </tr>\n",
       "    <tr>\n",
       "      <th>improvement_surcharge</th>\n",
       "      <td>-0.007515</td>\n",
       "      <td>0.000549</td>\n",
       "      <td>0.007635</td>\n",
       "      <td>-0.158160</td>\n",
       "      <td>-0.041704</td>\n",
       "      <td>0.010814</td>\n",
       "      <td>0.039689</td>\n",
       "      <td>-0.031089</td>\n",
       "      <td>0.001845</td>\n",
       "      <td>1.000000</td>\n",
       "      <td>0.034257</td>\n",
       "      <td>0.001845</td>\n",
       "      <td>0.001423</td>\n",
       "      <td>-0.001625</td>\n",
       "      <td>-0.001515</td>\n",
       "      <td>-0.004739</td>\n",
       "    </tr>\n",
       "    <tr>\n",
       "      <th>congestion_surcharge</th>\n",
       "      <td>-0.014582</td>\n",
       "      <td>0.000312</td>\n",
       "      <td>-0.238564</td>\n",
       "      <td>-0.231601</td>\n",
       "      <td>-0.279923</td>\n",
       "      <td>0.153869</td>\n",
       "      <td>0.231904</td>\n",
       "      <td>-0.209527</td>\n",
       "      <td>-0.151268</td>\n",
       "      <td>0.034257</td>\n",
       "      <td>1.000000</td>\n",
       "      <td>0.009742</td>\n",
       "      <td>0.011405</td>\n",
       "      <td>-0.022422</td>\n",
       "      <td>-0.021160</td>\n",
       "      <td>-0.028923</td>\n",
       "    </tr>\n",
       "    <tr>\n",
       "      <th>pickup_hour</th>\n",
       "      <td>-0.001919</td>\n",
       "      <td>0.010422</td>\n",
       "      <td>-0.010744</td>\n",
       "      <td>-0.010061</td>\n",
       "      <td>-0.001545</td>\n",
       "      <td>0.115694</td>\n",
       "      <td>0.012524</td>\n",
       "      <td>0.011213</td>\n",
       "      <td>-0.010787</td>\n",
       "      <td>0.001845</td>\n",
       "      <td>0.009742</td>\n",
       "      <td>1.000000</td>\n",
       "      <td>0.933668</td>\n",
       "      <td>-0.080683</td>\n",
       "      <td>-0.078050</td>\n",
       "      <td>0.001615</td>\n",
       "    </tr>\n",
       "    <tr>\n",
       "      <th>dropoff_hour</th>\n",
       "      <td>-0.003392</td>\n",
       "      <td>0.009583</td>\n",
       "      <td>-0.009171</td>\n",
       "      <td>-0.005366</td>\n",
       "      <td>0.003537</td>\n",
       "      <td>0.112963</td>\n",
       "      <td>0.009975</td>\n",
       "      <td>0.017204</td>\n",
       "      <td>-0.001175</td>\n",
       "      <td>0.001423</td>\n",
       "      <td>0.011405</td>\n",
       "      <td>0.933668</td>\n",
       "      <td>1.000000</td>\n",
       "      <td>-0.086296</td>\n",
       "      <td>-0.089669</td>\n",
       "      <td>0.001833</td>\n",
       "    </tr>\n",
       "    <tr>\n",
       "      <th>pickup_day</th>\n",
       "      <td>0.015941</td>\n",
       "      <td>0.032756</td>\n",
       "      <td>0.014930</td>\n",
       "      <td>0.010232</td>\n",
       "      <td>-0.002598</td>\n",
       "      <td>-0.081063</td>\n",
       "      <td>-0.006111</td>\n",
       "      <td>-0.014866</td>\n",
       "      <td>-0.008045</td>\n",
       "      <td>-0.001625</td>\n",
       "      <td>-0.022422</td>\n",
       "      <td>-0.080683</td>\n",
       "      <td>-0.086296</td>\n",
       "      <td>1.000000</td>\n",
       "      <td>0.994012</td>\n",
       "      <td>-0.005241</td>\n",
       "    </tr>\n",
       "    <tr>\n",
       "      <th>dropoff_day</th>\n",
       "      <td>0.016057</td>\n",
       "      <td>0.032780</td>\n",
       "      <td>0.013607</td>\n",
       "      <td>0.009322</td>\n",
       "      <td>-0.003395</td>\n",
       "      <td>-0.080471</td>\n",
       "      <td>-0.005931</td>\n",
       "      <td>-0.015535</td>\n",
       "      <td>-0.009294</td>\n",
       "      <td>-0.001515</td>\n",
       "      <td>-0.021160</td>\n",
       "      <td>-0.078050</td>\n",
       "      <td>-0.089669</td>\n",
       "      <td>0.994012</td>\n",
       "      <td>1.000000</td>\n",
       "      <td>-0.005519</td>\n",
       "    </tr>\n",
       "    <tr>\n",
       "      <th>trip_time</th>\n",
       "      <td>0.033720</td>\n",
       "      <td>0.012084</td>\n",
       "      <td>0.164667</td>\n",
       "      <td>0.048860</td>\n",
       "      <td>0.168367</td>\n",
       "      <td>-0.027120</td>\n",
       "      <td>-0.014262</td>\n",
       "      <td>0.145670</td>\n",
       "      <td>0.101515</td>\n",
       "      <td>-0.004739</td>\n",
       "      <td>-0.028923</td>\n",
       "      <td>0.001615</td>\n",
       "      <td>0.001833</td>\n",
       "      <td>-0.005241</td>\n",
       "      <td>-0.005519</td>\n",
       "      <td>1.000000</td>\n",
       "    </tr>\n",
       "  </tbody>\n",
       "</table>\n",
       "</div>"
      ],
      "text/plain": [
       "                       VendorID  passenger_count  trip_distance  RatecodeID  \\\n",
       "VendorID               1.000000         0.202199       0.024527    0.016950   \n",
       "passenger_count        0.202199         1.000000       0.007590   -0.001946   \n",
       "trip_distance          0.024527         0.007590       1.000000    0.370755   \n",
       "RatecodeID             0.016950        -0.001946       0.370755    1.000000   \n",
       "fare_amount            0.023203         0.004953       0.905806    0.535009   \n",
       "extra                 -0.863893        -0.192068      -0.018625   -0.034310   \n",
       "mta_tax                0.004100         0.003603      -0.129049   -0.471624   \n",
       "tip_amount             0.032897         0.008178       0.810086    0.455102   \n",
       "tolls_amount           0.017817         0.004645       0.657707    0.375040   \n",
       "improvement_surcharge -0.007515         0.000549       0.007635   -0.158160   \n",
       "congestion_surcharge  -0.014582         0.000312      -0.238564   -0.231601   \n",
       "pickup_hour           -0.001919         0.010422      -0.010744   -0.010061   \n",
       "dropoff_hour          -0.003392         0.009583      -0.009171   -0.005366   \n",
       "pickup_day             0.015941         0.032756       0.014930    0.010232   \n",
       "dropoff_day            0.016057         0.032780       0.013607    0.009322   \n",
       "trip_time              0.033720         0.012084       0.164667    0.048860   \n",
       "\n",
       "                       fare_amount     extra   mta_tax  tip_amount  \\\n",
       "VendorID                  0.023203 -0.863893  0.004100    0.032897   \n",
       "passenger_count           0.004953 -0.192068  0.003603    0.008178   \n",
       "trip_distance             0.905806 -0.018625 -0.129049    0.810086   \n",
       "RatecodeID                0.535009 -0.034310 -0.471624    0.455102   \n",
       "fare_amount               1.000000 -0.030251 -0.273789    0.873161   \n",
       "extra                    -0.030251  1.000000  0.042390   -0.018161   \n",
       "mta_tax                  -0.273789  0.042390  1.000000   -0.227717   \n",
       "tip_amount                0.873161 -0.018161 -0.227717    1.000000   \n",
       "tolls_amount              0.653851 -0.016320 -0.287616    0.654354   \n",
       "improvement_surcharge    -0.041704  0.010814  0.039689   -0.031089   \n",
       "congestion_surcharge     -0.279923  0.153869  0.231904   -0.209527   \n",
       "pickup_hour              -0.001545  0.115694  0.012524    0.011213   \n",
       "dropoff_hour              0.003537  0.112963  0.009975    0.017204   \n",
       "pickup_day               -0.002598 -0.081063 -0.006111   -0.014866   \n",
       "dropoff_day              -0.003395 -0.080471 -0.005931   -0.015535   \n",
       "trip_time                 0.168367 -0.027120 -0.014262    0.145670   \n",
       "\n",
       "                       tolls_amount  improvement_surcharge  \\\n",
       "VendorID                   0.017817              -0.007515   \n",
       "passenger_count            0.004645               0.000549   \n",
       "trip_distance              0.657707               0.007635   \n",
       "RatecodeID                 0.375040              -0.158160   \n",
       "fare_amount                0.653851              -0.041704   \n",
       "extra                     -0.016320               0.010814   \n",
       "mta_tax                   -0.287616               0.039689   \n",
       "tip_amount                 0.654354              -0.031089   \n",
       "tolls_amount               1.000000               0.001845   \n",
       "improvement_surcharge      0.001845               1.000000   \n",
       "congestion_surcharge      -0.151268               0.034257   \n",
       "pickup_hour               -0.010787               0.001845   \n",
       "dropoff_hour              -0.001175               0.001423   \n",
       "pickup_day                -0.008045              -0.001625   \n",
       "dropoff_day               -0.009294              -0.001515   \n",
       "trip_time                  0.101515              -0.004739   \n",
       "\n",
       "                       congestion_surcharge  pickup_hour  dropoff_hour  \\\n",
       "VendorID                          -0.014582    -0.001919     -0.003392   \n",
       "passenger_count                    0.000312     0.010422      0.009583   \n",
       "trip_distance                     -0.238564    -0.010744     -0.009171   \n",
       "RatecodeID                        -0.231601    -0.010061     -0.005366   \n",
       "fare_amount                       -0.279923    -0.001545      0.003537   \n",
       "extra                              0.153869     0.115694      0.112963   \n",
       "mta_tax                            0.231904     0.012524      0.009975   \n",
       "tip_amount                        -0.209527     0.011213      0.017204   \n",
       "tolls_amount                      -0.151268    -0.010787     -0.001175   \n",
       "improvement_surcharge              0.034257     0.001845      0.001423   \n",
       "congestion_surcharge               1.000000     0.009742      0.011405   \n",
       "pickup_hour                        0.009742     1.000000      0.933668   \n",
       "dropoff_hour                       0.011405     0.933668      1.000000   \n",
       "pickup_day                        -0.022422    -0.080683     -0.086296   \n",
       "dropoff_day                       -0.021160    -0.078050     -0.089669   \n",
       "trip_time                         -0.028923     0.001615      0.001833   \n",
       "\n",
       "                       pickup_day  dropoff_day  trip_time  \n",
       "VendorID                 0.015941     0.016057   0.033720  \n",
       "passenger_count          0.032756     0.032780   0.012084  \n",
       "trip_distance            0.014930     0.013607   0.164667  \n",
       "RatecodeID               0.010232     0.009322   0.048860  \n",
       "fare_amount             -0.002598    -0.003395   0.168367  \n",
       "extra                   -0.081063    -0.080471  -0.027120  \n",
       "mta_tax                 -0.006111    -0.005931  -0.014262  \n",
       "tip_amount              -0.014866    -0.015535   0.145670  \n",
       "tolls_amount            -0.008045    -0.009294   0.101515  \n",
       "improvement_surcharge   -0.001625    -0.001515  -0.004739  \n",
       "congestion_surcharge    -0.022422    -0.021160  -0.028923  \n",
       "pickup_hour             -0.080683    -0.078050   0.001615  \n",
       "dropoff_hour            -0.086296    -0.089669   0.001833  \n",
       "pickup_day               1.000000     0.994012  -0.005241  \n",
       "dropoff_day              0.994012     1.000000  -0.005519  \n",
       "trip_time               -0.005241    -0.005519   1.000000  "
      ]
     },
     "execution_count": 12,
     "metadata": {},
     "output_type": "execute_result"
    }
   ],
   "source": [
    "data = data.drop(['tpep_pickup_datetime', 'tpep_dropoff_datetime','PULocationID','DOLocationID'], axis=1)\n",
    "data = data.drop(['store_and_fwd_flag', 'payment_type'], axis=1)\n",
    "data[\"VendorID\",\"passenger_count\",'trip_distance','RatecodeID','fare_amount\textra','mta_tax','tip_amount','tolls_amount','improvement_surcharge'].corr()"
   ]
  },
  {
   "cell_type": "markdown",
   "metadata": {},
   "source": [
    "<p><h3>Categorization of Features</h3></p>\n",
    "The following features were categorized:\n",
    "<ul>\n",
    "<li>VendorID</li>\n",
    "<li>RatecodeID</li>\n",
    "<li>Pickup Hour</li>\n",
    "<li>Dropoff Hour</li>\n",
    "<li>These features were categorized to transform them into a format suitable for machine learning models and to capture the categorical nature of these variables.</li>\n",
    "</ul>"
   ]
  },
  {
   "cell_type": "code",
   "execution_count": 13,
   "metadata": {},
   "outputs": [],
   "source": [
    "data_copy = data.copy()"
   ]
  },
  {
   "cell_type": "code",
   "execution_count": 14,
   "metadata": {},
   "outputs": [
    {
     "data": {
      "text/plain": [
       "0"
      ]
     },
     "execution_count": 14,
     "metadata": {},
     "output_type": "execute_result"
    }
   ],
   "source": [
    "get_dummy_col = [\"VendorID\",\"RatecodeID\", \"pickup_hour\", \"dropoff_hour\"]\n",
    "proc_data = pd.get_dummies(data, columns = get_dummy_col)\n",
    "\n",
    "del data\n",
    "gc.collect()"
   ]
  },
  {
   "cell_type": "markdown",
   "metadata": {},
   "source": [
    "<p><h3>Variables</h3>\n",
    "<li>Independent Variables (X): All features except 'tip_amount'.</li>\n",
    "<li>Dependent Variable (Y): 'tip_amount'.</li></p>"
   ]
  },
  {
   "cell_type": "code",
   "execution_count": 15,
   "metadata": {},
   "outputs": [
    {
     "name": "stdout",
     "output_type": "stream",
     "text": [
      "X.shape= (2712719, 69) y.shape= (2712719, 1)\n"
     ]
    }
   ],
   "source": [
    "# extract the labels from the dataframe\n",
    "y = proc_data[['tip_amount']].values.astype('float32')\n",
    "\n",
    "# drop the target variable from the feature matrix\n",
    "proc_data = proc_data.drop(['tip_amount'], axis=1)\n",
    "\n",
    "# get the feature matrix used for training\n",
    "X = proc_data.values\n",
    "\n",
    "# normalize the feature matrix\n",
    "X = normalize(X, axis=1, norm='l1', copy=False)\n",
    "\n",
    "# print the shape of the features matrix and the labels vector\n",
    "print('X.shape=', X.shape, 'y.shape=', y.shape)"
   ]
  },
  {
   "cell_type": "markdown",
   "metadata": {},
   "source": [
    "<h3>Data analysis for classification modelling</h3>"
   ]
  },
  {
   "cell_type": "markdown",
   "metadata": {},
   "source": [
    "The tip distribution plot means that people are most likely to pay exactly 4-6 dollars as tips"
   ]
  },
  {
   "cell_type": "code",
   "execution_count": 16,
   "metadata": {},
   "outputs": [
    {
     "data": {
      "text/plain": [
       "Text(0.5, 1.0, 'Tip distribution')"
      ]
     },
     "execution_count": 16,
     "metadata": {},
     "output_type": "execute_result"
    },
    {
     "data": {
      "image/png": "[encoded data removed]",
      "text/plain": [
       "<Figure size 640x480 with 1 Axes>"
      ]
     },
     "metadata": {},
     "output_type": "display_data"
    }
   ],
   "source": [
    "bins = [0,  np.percentile(data_copy.tip_amount.values, 33), np.percentile(data_copy.tip_amount.values, 66), np.inf]\n",
    "labels = [1, 2, 3]\n",
    "data_copy ['multi_class_target'] = pd.cut(data_copy[\"tip_amount\"], bins=bins, labels=labels)\n",
    "\n",
    "plt.bar(data_copy['multi_class_target'].unique(), data_copy['multi_class_target'].value_counts().values)\n",
    "plt.xlabel(\"Tips\")\n",
    "plt.ylabel(\"freq\")\n",
    "plt.title(\"Tip distribution\")"
   ]
  },
  {
   "cell_type": "markdown",
   "metadata": {},
   "source": [
    "<p><h3>Variables</h3>\n",
    "<li>Independent Variables (X): All features except 'categorized tip amount'.</li>\n",
    "<li>Dependent Variable (Y): categorized tip amount (low , meduim and high).</li></p>"
   ]
  },
  {
   "cell_type": "code",
   "execution_count": 17,
   "metadata": {},
   "outputs": [],
   "source": [
    "xprob=data_copy[['VendorID', 'passenger_count', 'trip_distance', 'RatecodeID',\n",
    "        'fare_amount', 'extra', 'mta_tax','tip_amount', 'tolls_amount', 'improvement_surcharge',\n",
    "       'congestion_surcharge', 'pickup_hour', 'dropoff_hour', 'pickup_day',\n",
    "       'dropoff_day', 'trip_time']].values\n",
    "y1 = data_copy['multi_class_target'].values"
   ]
  },
  {
   "cell_type": "markdown",
   "metadata": {
    "jp-MarkdownHeadingCollapsed": true
   },
   "source": [
    "<hr>\n",
    "<div id=\"dataset_split\">\n",
    "    <h2>5.Dataset Train/Test Split</h2>\n",
    "</div>\n"
   ]
  },
  {
   "cell_type": "code",
   "execution_count": 18,
   "metadata": {},
   "outputs": [
    {
     "name": "stdout",
     "output_type": "stream",
     "text": [
      "X_train.shape= (1898903, 69) Y_train.shape= (1898903, 1)\n",
      "X_test.shape= (813816, 69) Y_test.shape= (813816, 1)\n"
     ]
    }
   ],
   "source": [
    "X_train, X_test, y_train, y_test = train_test_split(X, y, test_size=0.3, random_state=42)\n",
    "print('X_train.shape=', X_train.shape, 'Y_train.shape=', y_train.shape)\n",
    "print('X_test.shape=', X_test.shape, 'Y_test.shape=', y_test.shape)"
   ]
  },
  {
   "cell_type": "markdown",
   "metadata": {},
   "source": [
    "<hr>\n",
    "<div id=\"Decision Tree Regressor model and Evaluation\">\n",
    "    <h2>6.Decision Tree Regressor model and Evaluation</h2>\n",
    "</div>\n"
   ]
  },
  {
   "cell_type": "markdown",
   "metadata": {},
   "source": [
    "<p>A Decision Tree Regressor was used to model the tip amount:</p>\n",
    "\n",
    "<ul>\n",
    "<li>Training: The model was trained using the training dataset(X_train,y_train).</li>\n",
    "<li>Evaluation: The model's performance was evaluated on the test dataset to predict future tips.</li>\n",
    "<li>Metrics: The mean squared error (MSE) of the model was 1.689, indicating the average squared difference between the predicted and actual tip amounts. The R-squared value was 0.76746, suggesting that approximately 76.75% of the variance in the tip amount is explained by the model.\n",
    "Visualization: A density plot was created using the Seaborn library to compare the distribution of predicted tips with actual tips in the test dataset. This visualization helps to assess how well the predicted values align with the true values.</li>\n",
    "</ul>"
   ]
  },
  {
   "cell_type": "code",
   "execution_count": 19,
   "metadata": {},
   "outputs": [
    {
     "name": "stdout",
     "output_type": "stream",
     "text": [
      "mean squared error: 1.6894026501370476\n",
      "R-squared Error: 0.7674676404953005\n"
     ]
    }
   ],
   "source": [
    "sklearn_dt = DecisionTreeRegressor(max_depth=8, random_state=35)\n",
    "sklearn_dt.fit(X_train, y_train)\n",
    "y_pred=sklearn_dt.predict(X_test)\n",
    "print(\"mean squared error:\", mean_squared_error(y_test,y_pred))\n",
    "print(\"R-squared Error:\",r2_score(y_test,y_pred))"
   ]
  },
  {
   "cell_type": "code",
   "execution_count": 42,
   "metadata": {},
   "outputs": [
    {
     "data": {
      "text/plain": [
       "Text(0, 0.5, 'Density')"
      ]
     },
     "execution_count": 42,
     "metadata": {},
     "output_type": "execute_result"
    },
    {
     "data": {
      "image/png": "[encoded data removed]",
      "text/plain": [
       "<Figure size 640x480 with 1 Axes>"
      ]
     },
     "metadata": {},
     "output_type": "display_data"
    }
   ],
   "source": [
    "import seaborn as sns\n",
    "sns.kdeplot(y_test,color=\"b\", label=\"Actual Value\")\n",
    "sns.kdeplot(y_pred, color=\"r\", label=\"Fitted Values\")\n",
    "plt.title('Actual vs Fitted Values for Tip amount')\n",
    "plt.xlabel('Tip amount')\n",
    "plt.ylabel('Density')"
   ]
  },
  {
   "cell_type": "code",
   "execution_count": 21,
   "metadata": {},
   "outputs": [],
   "source": [
    "X1_train, X1_test, y1_train, y1_test = train_test_split(xprob, y1, test_size=0.4, random_state=42)"
   ]
  },
  {
   "cell_type": "markdown",
   "metadata": {},
   "source": [
    "<hr>\n",
    "<div id=\"LOGISTIC REGRESSION\">\n",
    "<h2><b>7.LOGISTIC REGRESSION FOR TIP CATEGORIZATION</b></h2>\n",
    "</div>"
   ]
  },
  {
   "cell_type": "markdown",
   "metadata": {},
   "source": [
    "<div>A Logistic Regression model was used to categorize the predicted tips:\n",
    "<ul>\n",
    "<li><p>Categorization: The <code>tip_amount</code> feature was categorized into `low`, `medium`, and `high` using the pd.get_dummies function.</p>\n",
    "<p><code>Low</code>: 1-2</p>\n",
    "<p><code>Medium</code>: 2.1-2.5</p>\n",
    "<p><code>High</code>: 4-7</p>\n",
    "</li>\n",
    "<li>Training: The model was trained on the same training dataset to predict the probability of each category.</li>\n",
    "<li>Evaluation: The performance of the logistic regression model was evaluated using a confusion matrix and classification report.</li>\n",
    "</ul>\n",
    "</div>"
   ]
  },
  {
   "cell_type": "code",
   "execution_count": 22,
   "metadata": {},
   "outputs": [
    {
     "data": {
      "text/html": [
       "<style>#sk-container-id-1 {color: black;}#sk-container-id-1 pre{padding: 0;}#sk-container-id-1 div.sk-toggleable {background-color: white;}#sk-container-id-1 label.sk-toggleable__label {cursor: pointer;display: block;width: 100%;margin-bottom: 0;padding: 0.3em;box-sizing: border-box;text-align: center;}#sk-container-id-1 label.sk-toggleable__label-arrow:before {content: \"▸\";float: left;margin-right: 0.25em;color: #696969;}#sk-container-id-1 label.sk-toggleable__label-arrow:hover:before {color: black;}#sk-container-id-1 div.sk-estimator:hover label.sk-toggleable__label-arrow:before {color: black;}#sk-container-id-1 div.sk-toggleable__content {max-height: 0;max-width: 0;overflow: hidden;text-align: left;background-color: #f0f8ff;}#sk-container-id-1 div.sk-toggleable__content pre {margin: 0.2em;color: black;border-radius: 0.25em;background-color: #f0f8ff;}#sk-container-id-1 input.sk-toggleable__control:checked~div.sk-toggleable__content {max-height: 200px;max-width: 100%;overflow: auto;}#sk-container-id-1 input.sk-toggleable__control:checked~label.sk-toggleable__label-arrow:before {content: \"▾\";}#sk-container-id-1 div.sk-estimator input.sk-toggleable__control:checked~label.sk-toggleable__label {background-color: #d4ebff;}#sk-container-id-1 div.sk-label input.sk-toggleable__control:checked~label.sk-toggleable__label {background-color: #d4ebff;}#sk-container-id-1 input.sk-hidden--visually {border: 0;clip: rect(1px 1px 1px 1px);clip: rect(1px, 1px, 1px, 1px);height: 1px;margin: -1px;overflow: hidden;padding: 0;position: absolute;width: 1px;}#sk-container-id-1 div.sk-estimator {font-family: monospace;background-color: #f0f8ff;border: 1px dotted black;border-radius: 0.25em;box-sizing: border-box;margin-bottom: 0.5em;}#sk-container-id-1 div.sk-estimator:hover {background-color: #d4ebff;}#sk-container-id-1 div.sk-parallel-item::after {content: \"\";width: 100%;border-bottom: 1px solid gray;flex-grow: 1;}#sk-container-id-1 div.sk-label:hover label.sk-toggleable__label {background-color: #d4ebff;}#sk-container-id-1 div.sk-serial::before {content: \"\";position: absolute;border-left: 1px solid gray;box-sizing: border-box;top: 0;bottom: 0;left: 50%;z-index: 0;}#sk-container-id-1 div.sk-serial {display: flex;flex-direction: column;align-items: center;background-color: white;padding-right: 0.2em;padding-left: 0.2em;position: relative;}#sk-container-id-1 div.sk-item {position: relative;z-index: 1;}#sk-container-id-1 div.sk-parallel {display: flex;align-items: stretch;justify-content: center;background-color: white;position: relative;}#sk-container-id-1 div.sk-item::before, #sk-container-id-1 div.sk-parallel-item::before {content: \"\";position: absolute;border-left: 1px solid gray;box-sizing: border-box;top: 0;bottom: 0;left: 50%;z-index: -1;}#sk-container-id-1 div.sk-parallel-item {display: flex;flex-direction: column;z-index: 1;position: relative;background-color: white;}#sk-container-id-1 div.sk-parallel-item:first-child::after {align-self: flex-end;width: 50%;}#sk-container-id-1 div.sk-parallel-item:last-child::after {align-self: flex-start;width: 50%;}#sk-container-id-1 div.sk-parallel-item:only-child::after {width: 0;}#sk-container-id-1 div.sk-dashed-wrapped {border: 1px dashed gray;margin: 0 0.4em 0.5em 0.4em;box-sizing: border-box;padding-bottom: 0.4em;background-color: white;}#sk-container-id-1 div.sk-label label {font-family: monospace;font-weight: bold;display: inline-block;line-height: 1.2em;}#sk-container-id-1 div.sk-label-container {text-align: center;}#sk-container-id-1 div.sk-container {/* jupyter's `normalize.less` sets `[hidden] { display: none; }` but bootstrap.min.css set `[hidden] { display: none !important; }` so we also need the `!important` here to be able to override the default hidden behavior on the sphinx rendered scikit-learn.org. See: https://github.com/scikit-learn/scikit-learn/issues/21755 */display: inline-block !important;position: relative;}#sk-container-id-1 div.sk-text-repr-fallback {display: none;}</style><div id=\"sk-container-id-1\" class=\"sk-top-container\"><div class=\"sk-text-repr-fallback\"><pre>LogisticRegression()</pre><b>In a Jupyter environment, please rerun this cell to show the HTML representation or trust the notebook. <br />On GitHub, the HTML representation is unable to render, please try loading this page with nbviewer.org.</b></div><div class=\"sk-container\" hidden><div class=\"sk-item\"><div class=\"sk-estimator sk-toggleable\"><input class=\"sk-toggleable__control sk-hidden--visually\" id=\"sk-estimator-id-1\" type=\"checkbox\" checked><label for=\"sk-estimator-id-1\" class=\"sk-toggleable__label sk-toggleable__label-arrow\">LogisticRegression</label><div class=\"sk-toggleable__content\"><pre>LogisticRegression()</pre></div></div></div></div></div>"
      ],
      "text/plain": [
       "LogisticRegression()"
      ]
     },
     "execution_count": 22,
     "metadata": {},
     "output_type": "execute_result"
    }
   ],
   "source": [
    "log_reg1 = LogisticRegression()\n",
    "log_reg1.fit(X1_train, y1_train)"
   ]
  },
  {
   "cell_type": "code",
   "execution_count": 23,
   "metadata": {
    "scrolled": true
   },
   "outputs": [
    {
     "data": {
      "text/html": [
       "<div>\n",
       "<style scoped>\n",
       "    .dataframe tbody tr th:only-of-type {\n",
       "        vertical-align: middle;\n",
       "    }\n",
       "\n",
       "    .dataframe tbody tr th {\n",
       "        vertical-align: top;\n",
       "    }\n",
       "\n",
       "    .dataframe thead th {\n",
       "        text-align: right;\n",
       "    }\n",
       "</style>\n",
       "<table border=\"1\" class=\"dataframe\">\n",
       "  <thead>\n",
       "    <tr style=\"text-align: right;\">\n",
       "      <th></th>\n",
       "      <th>low</th>\n",
       "      <th>medium</th>\n",
       "      <th>high</th>\n",
       "      <th>most_likely_target</th>\n",
       "      <th>y_data</th>\n",
       "      <th>tip_amount_testset</th>\n",
       "    </tr>\n",
       "  </thead>\n",
       "  <tbody>\n",
       "    <tr>\n",
       "      <th>0</th>\n",
       "      <td>0.424468</td>\n",
       "      <td>0.415835</td>\n",
       "      <td>0.159697</td>\n",
       "      <td>low</td>\n",
       "      <td>1</td>\n",
       "      <td>2.00</td>\n",
       "    </tr>\n",
       "    <tr>\n",
       "      <th>1</th>\n",
       "      <td>0.132875</td>\n",
       "      <td>0.294546</td>\n",
       "      <td>0.572580</td>\n",
       "      <td>high</td>\n",
       "      <td>2</td>\n",
       "      <td>2.75</td>\n",
       "    </tr>\n",
       "    <tr>\n",
       "      <th>2</th>\n",
       "      <td>0.360208</td>\n",
       "      <td>0.399177</td>\n",
       "      <td>0.240616</td>\n",
       "      <td>medium</td>\n",
       "      <td>1</td>\n",
       "      <td>1.40</td>\n",
       "    </tr>\n",
       "    <tr>\n",
       "      <th>3</th>\n",
       "      <td>0.305266</td>\n",
       "      <td>0.374358</td>\n",
       "      <td>0.320376</td>\n",
       "      <td>medium</td>\n",
       "      <td>1</td>\n",
       "      <td>1.03</td>\n",
       "    </tr>\n",
       "    <tr>\n",
       "      <th>4</th>\n",
       "      <td>0.331905</td>\n",
       "      <td>0.400674</td>\n",
       "      <td>0.267421</td>\n",
       "      <td>medium</td>\n",
       "      <td>1</td>\n",
       "      <td>1.92</td>\n",
       "    </tr>\n",
       "    <tr>\n",
       "      <th>...</th>\n",
       "      <td>...</td>\n",
       "      <td>...</td>\n",
       "      <td>...</td>\n",
       "      <td>...</td>\n",
       "      <td>...</td>\n",
       "      <td>...</td>\n",
       "    </tr>\n",
       "    <tr>\n",
       "      <th>1085083</th>\n",
       "      <td>0.403388</td>\n",
       "      <td>0.419265</td>\n",
       "      <td>0.177347</td>\n",
       "      <td>medium</td>\n",
       "      <td>2</td>\n",
       "      <td>2.56</td>\n",
       "    </tr>\n",
       "    <tr>\n",
       "      <th>1085084</th>\n",
       "      <td>0.485922</td>\n",
       "      <td>0.413744</td>\n",
       "      <td>0.100334</td>\n",
       "      <td>low</td>\n",
       "      <td>2</td>\n",
       "      <td>2.66</td>\n",
       "    </tr>\n",
       "    <tr>\n",
       "      <th>1085085</th>\n",
       "      <td>0.242353</td>\n",
       "      <td>0.376745</td>\n",
       "      <td>0.380903</td>\n",
       "      <td>high</td>\n",
       "      <td>2</td>\n",
       "      <td>2.46</td>\n",
       "    </tr>\n",
       "    <tr>\n",
       "      <th>1085086</th>\n",
       "      <td>0.030273</td>\n",
       "      <td>0.137139</td>\n",
       "      <td>0.832588</td>\n",
       "      <td>high</td>\n",
       "      <td>3</td>\n",
       "      <td>4.25</td>\n",
       "    </tr>\n",
       "    <tr>\n",
       "      <th>1085087</th>\n",
       "      <td>0.002920</td>\n",
       "      <td>0.035852</td>\n",
       "      <td>0.961228</td>\n",
       "      <td>high</td>\n",
       "      <td>3</td>\n",
       "      <td>7.88</td>\n",
       "    </tr>\n",
       "  </tbody>\n",
       "</table>\n",
       "<p>1085088 rows × 6 columns</p>\n",
       "</div>"
      ],
      "text/plain": [
       "              low    medium      high most_likely_target y_data  \\\n",
       "0        0.424468  0.415835  0.159697                low      1   \n",
       "1        0.132875  0.294546  0.572580               high      2   \n",
       "2        0.360208  0.399177  0.240616             medium      1   \n",
       "3        0.305266  0.374358  0.320376             medium      1   \n",
       "4        0.331905  0.400674  0.267421             medium      1   \n",
       "...           ...       ...       ...                ...    ...   \n",
       "1085083  0.403388  0.419265  0.177347             medium      2   \n",
       "1085084  0.485922  0.413744  0.100334                low      2   \n",
       "1085085  0.242353  0.376745  0.380903               high      2   \n",
       "1085086  0.030273  0.137139  0.832588               high      3   \n",
       "1085087  0.002920  0.035852  0.961228               high      3   \n",
       "\n",
       "         tip_amount_testset  \n",
       "0                      2.00  \n",
       "1                      2.75  \n",
       "2                      1.40  \n",
       "3                      1.03  \n",
       "4                      1.92  \n",
       "...                     ...  \n",
       "1085083                2.56  \n",
       "1085084                2.66  \n",
       "1085085                2.46  \n",
       "1085086                4.25  \n",
       "1085087                7.88  \n",
       "\n",
       "[1085088 rows x 6 columns]"
      ]
     },
     "execution_count": 23,
     "metadata": {},
     "output_type": "execute_result"
    }
   ],
   "source": [
    "y1_prob = log_reg1.predict_proba(X1_test)[:, 0]\n",
    "y2_prob = log_reg1.predict_proba(X1_test)[:, 1]\n",
    "y3_prob = log_reg1.predict_proba(X1_test)[:, 2]\n",
    "\n",
    "probabilities = pd.DataFrame({\n",
    "    'low': y1_prob,\n",
    "    'medium': y2_prob,\n",
    "    'high': y3_prob\n",
    "})\n",
    "\n",
    "# Determine the target with the highest probability for each input\n",
    "probabilities['most_likely_target'] = probabilities.idxmax(axis=1)\n",
    "probabilities['y_data']=y1_test #data_copy['tip_amount'](testing set)\n",
    "probabilities['tip_amount_testset']=X1_test[:,7]\n",
    "probabilities"
   ]
  },
  {
   "cell_type": "code",
   "execution_count": 24,
   "metadata": {},
   "outputs": [
    {
     "data": {
      "image/png": "[encoded data removed]",
      "text/plain": [
       "<Figure size 640x480 with 1 Axes>"
      ]
     },
     "metadata": {},
     "output_type": "display_data"
    }
   ],
   "source": [
    "sns.boxplot(x=\"most_likely_target\", y=\"tip_amount_testset\", data=probabilities)\n",
    "\n",
    "plt.ylim( 0, 12)\n",
    "\n",
    "plt.xlabel('categorized tip amount')\n",
    "plt.ylabel('tip amount')\n",
    "plt.title('Candle Plot')\n",
    "\n",
    "# Show the plot\n",
    "plt.show()"
   ]
  },
  {
   "cell_type": "code",
   "execution_count": 25,
   "metadata": {
    "scrolled": true
   },
   "outputs": [
    {
     "name": "stdout",
     "output_type": "stream",
     "text": [
      "Mean probabilities for each class: low       0.302075\n",
      "medium    0.322004\n",
      "high      0.375921\n",
      "dtype: float64\n"
     ]
    }
   ],
   "source": [
    "mean_probabilities = np.mean(probabilities[['low','medium','high']], axis=0)\n",
    "print(\"Mean probabilities for each class:\", mean_probabilities)"
   ]
  },
  {
   "cell_type": "code",
   "execution_count": 26,
   "metadata": {},
   "outputs": [],
   "source": [
    "from sklearn.metrics import f1_score\n",
    "from sklearn.metrics import confusion_matrix,classification_report"
   ]
  },
  {
   "cell_type": "code",
   "execution_count": 27,
   "metadata": {},
   "outputs": [],
   "source": [
    "pred = log_reg1.predict(X1_test) "
   ]
  },
  {
   "cell_type": "code",
   "execution_count": 28,
   "metadata": {},
   "outputs": [
    {
     "data": {
      "text/plain": [
       "array([[241841,  92059,  53775],\n",
       "       [111546, 152587,  68271],\n",
       "       [  5870,  74314, 284825]], dtype=int64)"
      ]
     },
     "execution_count": 28,
     "metadata": {},
     "output_type": "execute_result"
    }
   ],
   "source": [
    "p =confusion_matrix(y1_test, pred)\n",
    "p"
   ]
  },
  {
   "cell_type": "code",
   "execution_count": 29,
   "metadata": {},
   "outputs": [
    {
     "name": "stdout",
     "output_type": "stream",
     "text": [
      "              precision    recall  f1-score   support\n",
      "\n",
      "           1       0.67      0.62      0.65    387675\n",
      "           2       0.48      0.46      0.47    332404\n",
      "           3       0.70      0.78      0.74    365009\n",
      "\n",
      "    accuracy                           0.63   1085088\n",
      "   macro avg       0.62      0.62      0.62   1085088\n",
      "weighted avg       0.62      0.63      0.62   1085088\n",
      "\n"
     ]
    }
   ],
   "source": [
    "print(classification_report(y1_test, pred))"
   ]
  },
  {
   "cell_type": "code",
   "execution_count": 30,
   "metadata": {},
   "outputs": [
    {
     "name": "stdout",
     "output_type": "stream",
     "text": [
      "DecisionTrees's Accuracy:  0.6259888598897048\n"
     ]
    }
   ],
   "source": [
    "from sklearn import metrics\n",
    "import matplotlib.pyplot as plt\n",
    "print(\"DecisionTrees's Accuracy: \", metrics.accuracy_score(y1_test, pred))"
   ]
  },
  {
   "cell_type": "markdown",
   "metadata": {},
   "source": [
    "<hr>\n",
    "<div id=\"RANDOM FOREST\">\n",
    "<h2><b>8.RANDOM FOREST</b></h2>\n",
    "</div>"
   ]
  },
  {
   "cell_type": "markdown",
   "metadata": {},
   "source": [
    "<div>A Random Forest model was used as a comparison method to determine the probability of the predicted tips falling into 'low', 'medium', or 'high' categories:\n",
    "<ul>\n",
    "<li><p>Categorization: The 'tip_amount' feature was categorized as follows:</p>\n",
    "<p>'Low': 1-2</p>\n",
    "<p>'Medium': 2.1-2.3</p>\n",
    "<p>'High': 4-6.5</p>\n",
    "</li>\n",
    "<li>Training: The Random Forest model was trained on the same dataset as the logistic regression model.</li>\n",
    "<li>Evaluation:The performance of the Random Forest model was evaluated using a confusion matrix and classification report.</li>\n",
    "</ul>\n",
    "</div>"
   ]
  },
  {
   "cell_type": "code",
   "execution_count": 31,
   "metadata": {},
   "outputs": [
    {
     "data": {
      "text/html": [
       "<style>#sk-container-id-2 {color: black;}#sk-container-id-2 pre{padding: 0;}#sk-container-id-2 div.sk-toggleable {background-color: white;}#sk-container-id-2 label.sk-toggleable__label {cursor: pointer;display: block;width: 100%;margin-bottom: 0;padding: 0.3em;box-sizing: border-box;text-align: center;}#sk-container-id-2 label.sk-toggleable__label-arrow:before {content: \"▸\";float: left;margin-right: 0.25em;color: #696969;}#sk-container-id-2 label.sk-toggleable__label-arrow:hover:before {color: black;}#sk-container-id-2 div.sk-estimator:hover label.sk-toggleable__label-arrow:before {color: black;}#sk-container-id-2 div.sk-toggleable__content {max-height: 0;max-width: 0;overflow: hidden;text-align: left;background-color: #f0f8ff;}#sk-container-id-2 div.sk-toggleable__content pre {margin: 0.2em;color: black;border-radius: 0.25em;background-color: #f0f8ff;}#sk-container-id-2 input.sk-toggleable__control:checked~div.sk-toggleable__content {max-height: 200px;max-width: 100%;overflow: auto;}#sk-container-id-2 input.sk-toggleable__control:checked~label.sk-toggleable__label-arrow:before {content: \"▾\";}#sk-container-id-2 div.sk-estimator input.sk-toggleable__control:checked~label.sk-toggleable__label {background-color: #d4ebff;}#sk-container-id-2 div.sk-label input.sk-toggleable__control:checked~label.sk-toggleable__label {background-color: #d4ebff;}#sk-container-id-2 input.sk-hidden--visually {border: 0;clip: rect(1px 1px 1px 1px);clip: rect(1px, 1px, 1px, 1px);height: 1px;margin: -1px;overflow: hidden;padding: 0;position: absolute;width: 1px;}#sk-container-id-2 div.sk-estimator {font-family: monospace;background-color: #f0f8ff;border: 1px dotted black;border-radius: 0.25em;box-sizing: border-box;margin-bottom: 0.5em;}#sk-container-id-2 div.sk-estimator:hover {background-color: #d4ebff;}#sk-container-id-2 div.sk-parallel-item::after {content: \"\";width: 100%;border-bottom: 1px solid gray;flex-grow: 1;}#sk-container-id-2 div.sk-label:hover label.sk-toggleable__label {background-color: #d4ebff;}#sk-container-id-2 div.sk-serial::before {content: \"\";position: absolute;border-left: 1px solid gray;box-sizing: border-box;top: 0;bottom: 0;left: 50%;z-index: 0;}#sk-container-id-2 div.sk-serial {display: flex;flex-direction: column;align-items: center;background-color: white;padding-right: 0.2em;padding-left: 0.2em;position: relative;}#sk-container-id-2 div.sk-item {position: relative;z-index: 1;}#sk-container-id-2 div.sk-parallel {display: flex;align-items: stretch;justify-content: center;background-color: white;position: relative;}#sk-container-id-2 div.sk-item::before, #sk-container-id-2 div.sk-parallel-item::before {content: \"\";position: absolute;border-left: 1px solid gray;box-sizing: border-box;top: 0;bottom: 0;left: 50%;z-index: -1;}#sk-container-id-2 div.sk-parallel-item {display: flex;flex-direction: column;z-index: 1;position: relative;background-color: white;}#sk-container-id-2 div.sk-parallel-item:first-child::after {align-self: flex-end;width: 50%;}#sk-container-id-2 div.sk-parallel-item:last-child::after {align-self: flex-start;width: 50%;}#sk-container-id-2 div.sk-parallel-item:only-child::after {width: 0;}#sk-container-id-2 div.sk-dashed-wrapped {border: 1px dashed gray;margin: 0 0.4em 0.5em 0.4em;box-sizing: border-box;padding-bottom: 0.4em;background-color: white;}#sk-container-id-2 div.sk-label label {font-family: monospace;font-weight: bold;display: inline-block;line-height: 1.2em;}#sk-container-id-2 div.sk-label-container {text-align: center;}#sk-container-id-2 div.sk-container {/* jupyter's `normalize.less` sets `[hidden] { display: none; }` but bootstrap.min.css set `[hidden] { display: none !important; }` so we also need the `!important` here to be able to override the default hidden behavior on the sphinx rendered scikit-learn.org. See: https://github.com/scikit-learn/scikit-learn/issues/21755 */display: inline-block !important;position: relative;}#sk-container-id-2 div.sk-text-repr-fallback {display: none;}</style><div id=\"sk-container-id-2\" class=\"sk-top-container\"><div class=\"sk-text-repr-fallback\"><pre>RandomForestClassifier(gpu_ids=array([0], dtype=uint32), max_depth=8,\n",
       "                       random_state=35)</pre><b>In a Jupyter environment, please rerun this cell to show the HTML representation or trust the notebook. <br />On GitHub, the HTML representation is unable to render, please try loading this page with nbviewer.org.</b></div><div class=\"sk-container\" hidden><div class=\"sk-item\"><div class=\"sk-estimator sk-toggleable\"><input class=\"sk-toggleable__control sk-hidden--visually\" id=\"sk-estimator-id-2\" type=\"checkbox\" checked><label for=\"sk-estimator-id-2\" class=\"sk-toggleable__label sk-toggleable__label-arrow\">RandomForestClassifier</label><div class=\"sk-toggleable__content\"><pre>RandomForestClassifier(gpu_ids=array([0], dtype=uint32), max_depth=8,\n",
       "                       random_state=35)</pre></div></div></div></div></div>"
      ],
      "text/plain": [
       "RandomForestClassifier(gpu_ids=array([0], dtype=uint32), max_depth=8,\n",
       "                       random_state=35)"
      ]
     },
     "execution_count": 31,
     "metadata": {},
     "output_type": "execute_result"
    }
   ],
   "source": [
    "ran = RandomForestClassifier(max_depth=8, random_state=35)\n",
    "ran.fit(X1_train, y1_train)"
   ]
  },
  {
   "cell_type": "code",
   "execution_count": 32,
   "metadata": {
    "scrolled": true
   },
   "outputs": [
    {
     "data": {
      "text/html": [
       "<div>\n",
       "<style scoped>\n",
       "    .dataframe tbody tr th:only-of-type {\n",
       "        vertical-align: middle;\n",
       "    }\n",
       "\n",
       "    .dataframe tbody tr th {\n",
       "        vertical-align: top;\n",
       "    }\n",
       "\n",
       "    .dataframe thead th {\n",
       "        text-align: right;\n",
       "    }\n",
       "</style>\n",
       "<table border=\"1\" class=\"dataframe\">\n",
       "  <thead>\n",
       "    <tr style=\"text-align: right;\">\n",
       "      <th></th>\n",
       "      <th>low</th>\n",
       "      <th>medium</th>\n",
       "      <th>high</th>\n",
       "      <th>most_likely_target</th>\n",
       "      <th>y_data</th>\n",
       "      <th>tip_amount_testset</th>\n",
       "    </tr>\n",
       "  </thead>\n",
       "  <tbody>\n",
       "    <tr>\n",
       "      <th>0</th>\n",
       "      <td>0.932332</td>\n",
       "      <td>0.061465</td>\n",
       "      <td>0.006203</td>\n",
       "      <td>low</td>\n",
       "      <td>1</td>\n",
       "      <td>2.00</td>\n",
       "    </tr>\n",
       "    <tr>\n",
       "      <th>1</th>\n",
       "      <td>0.201755</td>\n",
       "      <td>0.725982</td>\n",
       "      <td>0.072263</td>\n",
       "      <td>medium</td>\n",
       "      <td>2</td>\n",
       "      <td>2.75</td>\n",
       "    </tr>\n",
       "    <tr>\n",
       "      <th>2</th>\n",
       "      <td>0.986762</td>\n",
       "      <td>0.012878</td>\n",
       "      <td>0.000359</td>\n",
       "      <td>low</td>\n",
       "      <td>1</td>\n",
       "      <td>1.40</td>\n",
       "    </tr>\n",
       "    <tr>\n",
       "      <th>3</th>\n",
       "      <td>0.932332</td>\n",
       "      <td>0.061465</td>\n",
       "      <td>0.006203</td>\n",
       "      <td>low</td>\n",
       "      <td>1</td>\n",
       "      <td>1.03</td>\n",
       "    </tr>\n",
       "    <tr>\n",
       "      <th>4</th>\n",
       "      <td>0.926323</td>\n",
       "      <td>0.059446</td>\n",
       "      <td>0.014231</td>\n",
       "      <td>low</td>\n",
       "      <td>1</td>\n",
       "      <td>1.92</td>\n",
       "    </tr>\n",
       "    <tr>\n",
       "      <th>...</th>\n",
       "      <td>...</td>\n",
       "      <td>...</td>\n",
       "      <td>...</td>\n",
       "      <td>...</td>\n",
       "      <td>...</td>\n",
       "      <td>...</td>\n",
       "    </tr>\n",
       "    <tr>\n",
       "      <th>1085083</th>\n",
       "      <td>0.028212</td>\n",
       "      <td>0.918729</td>\n",
       "      <td>0.053059</td>\n",
       "      <td>medium</td>\n",
       "      <td>2</td>\n",
       "      <td>2.56</td>\n",
       "    </tr>\n",
       "    <tr>\n",
       "      <th>1085084</th>\n",
       "      <td>0.028212</td>\n",
       "      <td>0.918729</td>\n",
       "      <td>0.053059</td>\n",
       "      <td>medium</td>\n",
       "      <td>2</td>\n",
       "      <td>2.66</td>\n",
       "    </tr>\n",
       "    <tr>\n",
       "      <th>1085085</th>\n",
       "      <td>0.030087</td>\n",
       "      <td>0.918157</td>\n",
       "      <td>0.051756</td>\n",
       "      <td>medium</td>\n",
       "      <td>2</td>\n",
       "      <td>2.46</td>\n",
       "    </tr>\n",
       "    <tr>\n",
       "      <th>1085086</th>\n",
       "      <td>0.018652</td>\n",
       "      <td>0.011404</td>\n",
       "      <td>0.969944</td>\n",
       "      <td>high</td>\n",
       "      <td>3</td>\n",
       "      <td>4.25</td>\n",
       "    </tr>\n",
       "    <tr>\n",
       "      <th>1085087</th>\n",
       "      <td>0.001625</td>\n",
       "      <td>0.001540</td>\n",
       "      <td>0.996835</td>\n",
       "      <td>high</td>\n",
       "      <td>3</td>\n",
       "      <td>7.88</td>\n",
       "    </tr>\n",
       "  </tbody>\n",
       "</table>\n",
       "<p>1085088 rows × 6 columns</p>\n",
       "</div>"
      ],
      "text/plain": [
       "              low    medium      high most_likely_target y_data  \\\n",
       "0        0.932332  0.061465  0.006203                low      1   \n",
       "1        0.201755  0.725982  0.072263             medium      2   \n",
       "2        0.986762  0.012878  0.000359                low      1   \n",
       "3        0.932332  0.061465  0.006203                low      1   \n",
       "4        0.926323  0.059446  0.014231                low      1   \n",
       "...           ...       ...       ...                ...    ...   \n",
       "1085083  0.028212  0.918729  0.053059             medium      2   \n",
       "1085084  0.028212  0.918729  0.053059             medium      2   \n",
       "1085085  0.030087  0.918157  0.051756             medium      2   \n",
       "1085086  0.018652  0.011404  0.969944               high      3   \n",
       "1085087  0.001625  0.001540  0.996835               high      3   \n",
       "\n",
       "         tip_amount_testset  \n",
       "0                      2.00  \n",
       "1                      2.75  \n",
       "2                      1.40  \n",
       "3                      1.03  \n",
       "4                      1.92  \n",
       "...                     ...  \n",
       "1085083                2.56  \n",
       "1085084                2.66  \n",
       "1085085                2.46  \n",
       "1085086                4.25  \n",
       "1085087                7.88  \n",
       "\n",
       "[1085088 rows x 6 columns]"
      ]
     },
     "execution_count": 32,
     "metadata": {},
     "output_type": "execute_result"
    }
   ],
   "source": [
    "y1_ran = ran.predict_proba(X1_test)[:, 0]\n",
    "y2_ran = ran.predict_proba(X1_test)[:, 1]\n",
    "y3_ran = ran.predict_proba(X1_test)[:, 2]\n",
    "\n",
    "# Combine probabilities into a DataFrame for comparison\n",
    "prob = pd.DataFrame({\n",
    "    'low': y1_ran,\n",
    "    'medium': y2_ran,\n",
    "    'high': y3_ran\n",
    "})\n",
    "\n",
    "# Determine the target with the highest probability for each input\n",
    "prob['most_likely_target'] = prob.idxmax(axis=1)\n",
    "prob['y_data']=y1_test\n",
    "prob['tip_amount_testset']=X1_test[:,7]\n",
    "prob"
   ]
  },
  {
   "cell_type": "code",
   "execution_count": 33,
   "metadata": {},
   "outputs": [
    {
     "data": {
      "image/png": "[encoded data removed]",
      "text/plain": [
       "<Figure size 640x480 with 1 Axes>"
      ]
     },
     "metadata": {},
     "output_type": "display_data"
    }
   ],
   "source": [
    "sns.boxplot(x=\"most_likely_target\", y=\"tip_amount_testset\", data=prob)\n",
    "\n",
    "plt.ylim( 0, 12)\n",
    "\n",
    "plt.xlabel('categorized tip amount')\n",
    "plt.ylabel('tip amount')\n",
    "plt.title('Scatter Plot')\n",
    "\n",
    "# Show the plot\n",
    "plt.show()"
   ]
  },
  {
   "cell_type": "code",
   "execution_count": 34,
   "metadata": {},
   "outputs": [
    {
     "name": "stdout",
     "output_type": "stream",
     "text": [
      "Mean probabilities for each class: low       0.302075\n",
      "medium    0.322004\n",
      "high      0.375921\n",
      "dtype: float64\n"
     ]
    }
   ],
   "source": [
    "mean_prob = np.mean(prob[['low','medium','high']], axis=0)\n",
    "print(\"Mean probabilities for each class:\", mean_probabilities)"
   ]
  },
  {
   "cell_type": "code",
   "execution_count": 35,
   "metadata": {},
   "outputs": [
    {
     "data": {
      "text/plain": [
       "(1085088,)"
      ]
     },
     "execution_count": 35,
     "metadata": {},
     "output_type": "execute_result"
    }
   ],
   "source": [
    "y1_test.shape"
   ]
  },
  {
   "cell_type": "code",
   "execution_count": 36,
   "metadata": {},
   "outputs": [
    {
     "data": {
      "text/plain": [
       "(1085088, 6)"
      ]
     },
     "execution_count": 36,
     "metadata": {},
     "output_type": "execute_result"
    }
   ],
   "source": [
    "prob.shape"
   ]
  },
  {
   "cell_type": "code",
   "execution_count": 37,
   "metadata": {},
   "outputs": [],
   "source": [
    "from sklearn.metrics import f1_score\n",
    "from sklearn.metrics import confusion_matrix,classification_report"
   ]
  },
  {
   "cell_type": "code",
   "execution_count": 38,
   "metadata": {},
   "outputs": [],
   "source": [
    "pred_ran = ran.predict(X1_test) "
   ]
  },
  {
   "cell_type": "code",
   "execution_count": 39,
   "metadata": {},
   "outputs": [
    {
     "data": {
      "text/plain": [
       "array([[387675,      0,      0],\n",
       "       [     0, 332404,      0],\n",
       "       [     0,      0, 365009]], dtype=int64)"
      ]
     },
     "execution_count": 39,
     "metadata": {},
     "output_type": "execute_result"
    }
   ],
   "source": [
    "p_ran =confusion_matrix(y1_test, pred_ran)\n",
    "p_ran"
   ]
  },
  {
   "cell_type": "code",
   "execution_count": 40,
   "metadata": {},
   "outputs": [
    {
     "name": "stdout",
     "output_type": "stream",
     "text": [
      "              precision    recall  f1-score   support\n",
      "\n",
      "           1       1.00      1.00      1.00    387675\n",
      "           2       1.00      1.00      1.00    332404\n",
      "           3       1.00      1.00      1.00    365009\n",
      "\n",
      "    accuracy                           1.00   1085088\n",
      "   macro avg       1.00      1.00      1.00   1085088\n",
      "weighted avg       1.00      1.00      1.00   1085088\n",
      "\n"
     ]
    }
   ],
   "source": [
    "print(classification_report(y1_test, pred_ran))"
   ]
  },
  {
   "cell_type": "code",
   "execution_count": 41,
   "metadata": {},
   "outputs": [
    {
     "name": "stdout",
     "output_type": "stream",
     "text": [
      "DecisionTrees's Accuracy:  1.0\n"
     ]
    }
   ],
   "source": [
    "from sklearn import metrics\n",
    "import matplotlib.pyplot as plt\n",
    "print(\"DecisionTrees's Accuracy: \", metrics.accuracy_score(y1_test, pred_ran))"
   ]
  },
  {
   "cell_type": "markdown",
   "metadata": {},
   "source": [
    "<hr>\n",
    "<div id=\"CONCLUSION\">\n",
    "<h2><b>9.CONCLUSION</b></h2>\n",
    "</div>"
   ]
  },
  {
   "cell_type": "markdown",
   "metadata": {},
   "source": [
    "<p>The logistic regression model achieved an overall accuracy of 63%, with an F1-score of 0.65 for the 'low' category, 0.47 for the 'medium' category, and 0.74 for the 'high' category. The random forest model, on the other hand, achieved perfect scores with an accuracy of 100% across all categories.\n",
    "\n",
    "While the random forest model shows superior performance with perfect precision, recall, and F1-scores, these results suggest potential overfitting, especially given the real-world complexity of tipping behavior. The logistic regression model, although less accurate, may provide a more balanced and realistic prediction by capturing the natural variability in tipping behavior.\n",
    "\n",
    "The visualization with candle plots further helps to understand the distribution and bias of predictions, offering insights into how each model handles different tip categories. These models, in combination, can be useful tools for predicting both the exact amount and the probability of different tipping behaviors, aiding stakeholders in making informed decisions to enhance the taxi service experience.</p>"
   ]
  }
 ],
 "metadata": {
  "kernelspec": {
   "display_name": "Python 3 (ipykernel)",
   "language": "python",
   "name": "python3"
  },
  "language_info": {
   "codemirror_mode": {
    "name": "ipython",
    "version": 3
   },
   "file_extension": ".py",
   "mimetype": "text/x-python",
   "name": "python",
   "nbconvert_exporter": "python",
   "pygments_lexer": "ipython3",
   "version": "3.10.13"
  }
 },
 "nbformat": 4,
 "nbformat_minor": 4
}
